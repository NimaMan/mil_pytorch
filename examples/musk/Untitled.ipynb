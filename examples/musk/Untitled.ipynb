{
 "cells": [
  {
   "cell_type": "code",
   "execution_count": 31,
   "metadata": {},
   "outputs": [
    {
     "name": "stdout",
     "output_type": "stream",
     "text": [
      "INFO: Data shape -\n",
      "data: torch.Size([476, 166])\n",
      "ids: torch.Size([476])\n",
      "labels: torch.Size([92])\n"
     ]
    }
   ],
   "source": [
    "import sys\n",
    "sys.path.append('/users/kuba/code/aic/mil')\n",
    "\n",
    "import pandas\n",
    "import numpy\n",
    "import torch\n",
    "\n",
    "from mil_pytorch.utils import data_utils\n",
    "\n",
    "data = pandas.read_csv('Musk1/data.csv', sep = '\\t', header = None).values\n",
    "ids = pandas.read_csv('Musk1/bagids.csv', sep = '\\t', header = None).values.reshape(-1)\n",
    "instance_labels = pandas.read_csv('Musk1/labels.csv', sep = '\\t', header = None).values.reshape(-1)\n",
    "\n",
    "data = torch.Tensor(data).double().t()\n",
    "ids = torch.Tensor(ids).long()\n",
    "instance_labels = torch.Tensor(instance_labels).long()\n",
    "labels = data_utils.create_bag_labels(instance_labels, ids)\n",
    "print('INFO: Data shape -\\ndata: {}\\nids: {}\\nlabels: {}'.format(data.shape, ids.shape, labels.shape))"
   ]
  },
  {
   "cell_type": "code",
   "execution_count": 32,
   "metadata": {},
   "outputs": [],
   "source": [
    "data_df = pandas.DataFrame(data.numpy())\n",
    "ids_df = pandas.DataFrame(ids.numpy())\n",
    "labels_df = pandas.DataFrame(labels.numpy())\n",
    "\n",
    "# Convert labels from (1, 0) to (1, -1) for tanh\n",
    "labels[labels == 0] = -1"
   ]
  },
  {
   "cell_type": "code",
   "execution_count": 33,
   "metadata": {},
   "outputs": [],
   "source": [
    "data_df.to_csv('data.csv', header = None, index = False)\n",
    "ids_df.to_csv('ids.csv', header = None, index = False)\n",
    "labels_df.to_csv('labels.csv', header = None, index = False)"
   ]
  },
  {
   "cell_type": "code",
   "execution_count": null,
   "metadata": {},
   "outputs": [],
   "source": []
  }
 ],
 "metadata": {
  "kernelspec": {
   "display_name": "Python 3",
   "language": "python",
   "name": "python3"
  },
  "language_info": {
   "codemirror_mode": {
    "name": "ipython",
    "version": 3
   },
   "file_extension": ".py",
   "mimetype": "text/x-python",
   "name": "python",
   "nbconvert_exporter": "python",
   "pygments_lexer": "ipython3",
   "version": "3.6.5"
  }
 },
 "nbformat": 4,
 "nbformat_minor": 2
}
