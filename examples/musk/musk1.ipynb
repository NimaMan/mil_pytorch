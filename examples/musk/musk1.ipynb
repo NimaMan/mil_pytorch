{
 "cells": [
  {
   "cell_type": "markdown",
   "metadata": {},
   "source": [
    "## Load data"
   ]
  },
  {
   "cell_type": "code",
   "execution_count": 21,
   "metadata": {},
   "outputs": [],
   "source": [
    "import sys\n",
    "sys.path.append('/users/kuba/code/aic/mil')\n",
    "\n",
    "import pandas\n",
    "import torch\n",
    "import numpy\n",
    "\n",
    "from torch.utils.data import DataLoader, SubsetRandomSampler\n",
    "\n",
    "from sklearn import model_selection\n",
    "\n",
    "\n",
    "\n",
    "data = pandas.read_csv('data.csv').values\n",
    "ids = pandas.read_csv('ids.csv', squeeze = True).values\n",
    "labels = pandas.read_csv('labels.csv', squeeze = True).values\n",
    "\n",
    "data = torch.tensor(data)\n",
    "ids = torch.tensor(ids)\n",
    "labels = torch.tensor(labels)\n",
    "\n",
    "# Create dataset\n",
    "dataset = mil.MilDataset(data, ids, labels, normalize = True)\n",
    "\n",
    "# Create train and test data loaders\n",
    "indices = numpy.arange(len(dataset))\n",
    "train_indices, test_indices = model_selection.train_test_split(indices, shuffle = True, test_size = 0.2)\n",
    "\n",
    "train_sampler = SubsetRandomSampler(train_indices)\n",
    "test_sampler = SubsetRandomSampler(test_indices)\n",
    "\n",
    "train_dl = DataLoader(dataset, sampler = train_sampler, batch_size = len(train_indices), collate_fn=mil.collate)\n",
    "test_dl = DataLoader(dataset, sampler = test_sampler, batch_size = len(test_indices), collate_fn=mil.collate)"
   ]
  },
  {
   "cell_type": "markdown",
   "metadata": {},
   "source": [
    "## Define model, criterion and optimizer"
   ]
  },
  {
   "cell_type": "code",
   "execution_count": 27,
   "metadata": {},
   "outputs": [],
   "source": [
    "import mil_pytorch.mil as mil\n",
    "\n",
    "n_neurons1 = 10\n",
    "n_neurons2 = 10\n",
    "input_len = len(dataset.data[0])\n",
    "\n",
    "prepNN = torch.nn.Sequential(\n",
    "    torch.nn.Linear(input_len, n_neurons1, bias = True),\n",
    "    torch.nn.ReLU(),\n",
    ")\n",
    "\n",
    "afterNN = torch.nn.Sequential(\n",
    "    torch.nn.Linear(n_neurons2, 1),\n",
    "    torch.nn.Tanh()\n",
    ")\n",
    "\n",
    "model = mil.BagModel(prepNN, afterNN, aggregation_func = torch.mean)\n",
    "\n",
    "criterion = mil.MyHingeLoss()\n",
    "\n",
    "learning_rate = 1e-4\n",
    "weight_decay = 1e-6\n",
    "\n",
    "optimizer = torch.optim.Adam(model.parameters(), lr = learning_rate, weight_decay = weight_decay)"
   ]
  },
  {
   "cell_type": "markdown",
   "metadata": {},
   "source": [
    "## Train model"
   ]
  },
  {
   "cell_type": "code",
   "execution_count": null,
   "metadata": {},
   "outputs": [],
   "source": [
    "import time\n",
    "\n",
    "epochs = 4000\n",
    "\n",
    "start = time.time()\n",
    "print('TRAINING:')\n",
    "\n",
    "train_losses = torch.empty(0)\n",
    "\n",
    "for epoch in range(epochs):\n",
    "    \n",
    "    # Optimization\n",
    "    for data, info, labels in train_dl:\n",
    "        pred = model((data, info))\n",
    "        loss = criterion(pred[:,0], labels)\n",
    "\n",
    "        # Optimizer step\n",
    "        optimizer.zero_grad()\n",
    "        loss.backward()\n",
    "        optimizer.step()\n",
    "\n",
    "        train_losses = torch.cat((train_losses, loss.float()))\n",
    "\n",
    "    train_loss = torch.mean(train_losses, dim = 0, keepdim = True)\n",
    "\n",
    "    train_losses = torch.new_empty(0)\n",
    "\n",
    "\n",
    "\n",
    "    # Print message\n",
    "    if (epoch+1)%100 == 0:\n",
    "        print('[{}/{}] | train_loss: {} | valid_loss: {} '.format(epoch+1, epochs, train_loss.item(), valid_loss.item()))\n",
    "\n",
    "print('INFO: Finished training - elapsed time: {}'.format(time.time() - start))"
   ]
  },
  {
   "cell_type": "code",
   "execution_count": null,
   "metadata": {},
   "outputs": [],
   "source": []
  },
  {
   "cell_type": "code",
   "execution_count": 1,
   "metadata": {},
   "outputs": [],
   "source": [
    "import torch"
   ]
  },
  {
   "cell_type": "code",
   "execution_count": 7,
   "metadata": {},
   "outputs": [],
   "source": [
    "a = torch.Tensor([1.2, 5.6])\n",
    "b = torch.Tensor([2.3])"
   ]
  },
  {
   "cell_type": "code",
   "execution_count": 8,
   "metadata": {},
   "outputs": [
    {
     "data": {
      "text/plain": [
       "tensor([2.3000])"
      ]
     },
     "execution_count": 8,
     "metadata": {},
     "output_type": "execute_result"
    }
   ],
   "source": [
    "b.to(a.device)"
   ]
  },
  {
   "cell_type": "code",
   "execution_count": 10,
   "metadata": {},
   "outputs": [
    {
     "data": {
      "text/plain": [
       "device(type='cpu')"
      ]
     },
     "execution_count": 10,
     "metadata": {},
     "output_type": "execute_result"
    }
   ],
   "source": [
    "b.device"
   ]
  },
  {
   "cell_type": "code",
   "execution_count": null,
   "metadata": {},
   "outputs": [],
   "source": []
  }
 ],
 "metadata": {
  "kernelspec": {
   "display_name": "Python 3",
   "language": "python",
   "name": "python3"
  },
  "language_info": {
   "codemirror_mode": {
    "name": "ipython",
    "version": 3
   },
   "file_extension": ".py",
   "mimetype": "text/x-python",
   "name": "python",
   "nbconvert_exporter": "python",
   "pygments_lexer": "ipython3",
   "version": "3.6.5"
  }
 },
 "nbformat": 4,
 "nbformat_minor": 2
}
