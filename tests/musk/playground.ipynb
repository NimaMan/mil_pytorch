{
 "cells": [
  {
   "cell_type": "code",
   "execution_count": 8,
   "metadata": {},
   "outputs": [],
   "source": [
    "import sys\n",
    "\n",
    "sys.path.append('/users/kuba/code/aic/mil')\n",
    "import pandas\n",
    "from mil_pytorch.utils import data_utils\n",
    "\n",
    "instances = pandas.read_csv(filepath_or_buffer = dir_path + 'Musk2/data.csv', sep = '\\t', header = None).values\n",
    "ids = pandas.read_csv(filepath_or_buffer = dir_path + 'Musk2/bagids.csv', sep = '\\t', header = None).values.reshape(-1)\n",
    "instance_labels = pandas.read_csv(filepath_or_buffer = dir_path + 'Musk2/labels.csv', sep = '\\t', header = None).values.reshape(-1)\n",
    "instances = torch.Tensor(instances).double().t()\n",
    "ids = torch.Tensor(ids).long()\n",
    "instance_labels = torch.Tensor(instance_labels).long()\n",
    "labels = data_utils.create_bag_labels(instance_labels, ids)\n",
    "\n",
    "labels[labels == 0] = -1"
   ]
  },
  {
   "cell_type": "code",
   "execution_count": 9,
   "metadata": {},
   "outputs": [],
   "source": [
    "n_instances = data_utils.ids2n_instances(ids)"
   ]
  },
  {
   "cell_type": "code",
   "execution_count": 22,
   "metadata": {},
   "outputs": [],
   "source": [
    "\n",
    "''' \n",
    "    Create 3d tensor of data from 2d sequence of instances\n",
    "    '''\n",
    "max_n_instances = max(n_instances)\n",
    "n_bags = len(n_instances)\n",
    "n_features = instances.shape[1]\n",
    "instances = instances.float()\n",
    "# Pre-allocate empty 3d tensor\n",
    "data = torch.empty(size = (n_bags, max_n_instances, n_features), dtype = torch.double)\n",
    "# data = torch.Tensor(n_bags, max_n_instances, n_features)\n",
    "\n",
    "# n_instances = n_instances.float()\n",
    "\n",
    "# Fill data tensor\n",
    "marker = 0\n",
    "for i in range(n_bags):\n",
    "    data[i] = torch.cat([ instances[ marker : marker + n_instances[i] ] ,  torch.zeros(max_n_instances - n_instances[i], n_features, dtype = torch.float) ], dim = 0)\n",
    "    marker += n_instances[i]\n"
   ]
  },
  {
   "cell_type": "code",
   "execution_count": 23,
   "metadata": {},
   "outputs": [
    {
     "data": {
      "text/plain": [
       "torch.Size([102, 1044, 166])"
      ]
     },
     "execution_count": 23,
     "metadata": {},
     "output_type": "execute_result"
    }
   ],
   "source": [
    "data.shape"
   ]
  },
  {
   "cell_type": "code",
   "execution_count": null,
   "metadata": {},
   "outputs": [],
   "source": []
  }
 ],
 "metadata": {
  "kernelspec": {
   "display_name": "Python 3",
   "language": "python",
   "name": "python3"
  },
  "language_info": {
   "codemirror_mode": {
    "name": "ipython",
    "version": 3
   },
   "file_extension": ".py",
   "mimetype": "text/x-python",
   "name": "python",
   "nbconvert_exporter": "python",
   "pygments_lexer": "ipython3",
   "version": "3.6.5"
  }
 },
 "nbformat": 4,
 "nbformat_minor": 2
}
