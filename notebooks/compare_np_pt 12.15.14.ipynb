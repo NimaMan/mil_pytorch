{
 "cells": [
  {
   "cell_type": "code",
   "execution_count": 5,
   "metadata": {},
   "outputs": [],
   "source": [
    "import sys\n",
    "sys.path.append('/Users/kuba/code/aic/mill_python')\n",
    "import mil_ptevrthng as mil_pt\n",
    "import mil as mil_np\n",
    "import utils\n",
    "\n",
    "import time\n",
    "\n",
    "import torch"
   ]
  },
  {
   "cell_type": "code",
   "execution_count": 6,
   "metadata": {},
   "outputs": [],
   "source": [
    "# Set model\n",
    "input_len = 1000\n",
    "n_neurons1 = 8\n",
    "learning_rate = 1e-2\n",
    "weight_decay = 1e-6\n",
    "\n",
    "# # 1 - layer\n",
    "# prepNN1 = torch.nn.Sequential(\n",
    "#     torch.nn.Linear(input_len, n_neurons1, bias = True),\n",
    "#     torch.nn.ReLU(),\n",
    "# )\n",
    "\n",
    "# afterNN1 = torch.nn.Sequential(\n",
    "#     torch.nn.Linear(n_neurons1, 1),\n",
    "#     torch.nn.Tanh()\n",
    "# )\n",
    "\n",
    "# model_np = torch.nn.Sequential(\n",
    "#     mil_np.BagModel(prepNN1, afterNN1, torch.mean)\n",
    "# ).double()\n",
    "\n",
    "# model_pt = torch.nn.Sequential(\n",
    "#     mil_pt.BagModel(prepNN1, afterNN1, torch.mean)\n",
    "# ).double()\n",
    "\n",
    "# 2 - layer\n",
    "prepNN1 = torch.nn.Sequential(\n",
    "    torch.nn.Linear(input_len, n_neurons1, bias = True),\n",
    "    torch.nn.ReLU(),\n",
    ")\n",
    "\n",
    "afterNN1 = torch.nn.Sequential(\n",
    "    torch.nn.Identity()\n",
    ")\n",
    "\n",
    "prepNN2 = torch.nn.Sequential(\n",
    "    torch.nn.Linear(n_neurons1, n_neurons1, bias = True),\n",
    "    torch.nn.ReLU(),\n",
    ")\n",
    "\n",
    "afterNN2 = torch.nn.Sequential(\n",
    "    torch.nn.Linear(n_neurons1, 1),\n",
    "    torch.nn.Tanh()\n",
    ")\n",
    "\n",
    "# Model and loss function\n",
    "model_np = torch.nn.Sequential(\n",
    "    mil_np.BagModel(prepNN1, afterNN1, torch.mean),\n",
    "    mil_np.BagModel(prepNN2, afterNN2, torch.mean)\n",
    ").double()\n",
    "\n",
    "model_pt = torch.nn.Sequential(\n",
    "    mil_pt.BagModel(prepNN1, afterNN1, torch.mean),\n",
    "    mil_pt.BagModel(prepNN2, afterNN2, torch.mean)\n",
    ").double()\n",
    "\n",
    "criterion = mil_pt.MyHingeLoss()\n",
    "optimizer_np = torch.optim.Adam(model_np.parameters(), lr = learning_rate, weight_decay = weight_decay)\n",
    "optimizer_pt = torch.optim.Adam(model_pt.parameters(), lr = learning_rate, weight_decay = weight_decay)"
   ]
  },
  {
   "cell_type": "code",
   "execution_count": 7,
   "metadata": {},
   "outputs": [
    {
     "data": {
      "text/plain": [
       "IncompatibleKeys(missing_keys=[], unexpected_keys=[])"
      ]
     },
     "execution_count": 7,
     "metadata": {},
     "output_type": "execute_result"
    }
   ],
   "source": [
    "# Load parameters from numpy model to pytorch model\n",
    "state_dict = model_np.state_dict()\n",
    "model_pt.load_state_dict(state_dict, strict = True)"
   ]
  },
  {
   "cell_type": "code",
   "execution_count": 8,
   "metadata": {},
   "outputs": [
    {
     "name": "stdout",
     "output_type": "stream",
     "text": [
      "tensor([[0.8236, 0.6470, 0.0806,  ..., 0.6529, 0.9353, 0.6031],\n",
      "        [0.0095, 0.5546, 0.1555,  ..., 0.8914, 0.0678, 0.4612],\n",
      "        [0.7384, 0.8318, 0.9265,  ..., 0.5492, 0.8308, 0.8648],\n",
      "        ...,\n",
      "        [0.8785, 0.9104, 0.4425,  ..., 0.4830, 0.6274, 0.1186],\n",
      "        [0.6708, 0.1796, 0.6756,  ..., 0.2043, 0.0456, 0.2363],\n",
      "        [0.6077, 0.2957, 0.7430,  ..., 0.2462, 0.6977, 0.1317]],\n",
      "       dtype=torch.float64)\n"
     ]
    }
   ],
   "source": [
    "# Create random data\n",
    "data = torch.rand((8,1000)).double()\n",
    "ids = torch.Tensor([[1,1,1, 2,2, 3,3,3],[1, 2, 2, 3, 4, 5, 6, 6]]).long()\n",
    "print(data)"
   ]
  },
  {
   "cell_type": "code",
   "execution_count": 9,
   "metadata": {},
   "outputs": [
    {
     "name": "stdout",
     "output_type": "stream",
     "text": [
      "Numpy version | Elapsed time: 0.00396418571472168\n"
     ]
    }
   ],
   "source": [
    "start = time.time()\n",
    "model_np((data,ids))\n",
    "print('Numpy version | Elapsed time: {}'.format(time.time() - start))"
   ]
  },
  {
   "cell_type": "code",
   "execution_count": 10,
   "metadata": {},
   "outputs": [
    {
     "name": "stdout",
     "output_type": "stream",
     "text": [
      "PyTorch version | Elapsed time: 0.004330158233642578\n"
     ]
    }
   ],
   "source": [
    "start = time.time()\n",
    "model_pt((data,ids))\n",
    "print('PyTorch version | Elapsed time: {}'.format(time.time() - start))"
   ]
  },
  {
   "cell_type": "code",
   "execution_count": 14,
   "metadata": {},
   "outputs": [],
   "source": [
    "import cProfile"
   ]
  },
  {
   "cell_type": "code",
   "execution_count": 17,
   "metadata": {},
   "outputs": [
    {
     "name": "stdout",
     "output_type": "stream",
     "text": [
      "         220 function calls (203 primitive calls) in 0.004 seconds\n",
      "\n",
      "   Ordered by: standard name\n",
      "\n",
      "   ncalls  tottime  percall  cumtime  percall filename:lineno(function)\n",
      "        1    0.000    0.000    0.004    0.004 <string>:1(<module>)\n",
      "        1    0.000    0.000    0.000    0.000 activation.py:307(forward)\n",
      "        2    0.000    0.000    0.000    0.000 activation.py:97(forward)\n",
      "      5/1    0.000    0.000    0.004    0.004 container.py:90(forward)\n",
      "        3    0.000    0.000    0.001    0.000 functional.py:1390(linear)\n",
      "        2    0.000    0.000    0.000    0.000 functional.py:394(unique)\n",
      "        2    0.000    0.000    0.000    0.000 functional.py:932(relu)\n",
      "        1    0.000    0.000    0.000    0.000 linear.py:31(forward)\n",
      "        3    0.000    0.000    0.001    0.000 linear.py:90(forward)\n",
      "        2    0.001    0.001    0.004    0.002 mil_ptevrthng.py:27(forward)\n",
      "        2    0.000    0.000    0.000    0.000 mil_ptevrthng.py:46(<listcomp>)\n",
      "     14/1    0.000    0.000    0.004    0.004 module.py:487(__call__)\n",
      "       10    0.000    0.000    0.000    0.000 module.py:525(__getattr__)\n",
      "       10    0.000    0.000    0.000    0.000 tensor.py:417(__len__)\n",
      "        2    0.000    0.000    0.000    0.000 tensor.py:422(__iter__)\n",
      "        9    0.000    0.000    0.000    0.000 tensor.py:436(<lambda>)\n",
      "        2    0.000    0.000    0.000    0.000 {built-in method _unique2}\n",
      "        3    0.000    0.000    0.000    0.000 {built-in method addmm}\n",
      "        1    0.000    0.000    0.004    0.004 {built-in method builtins.exec}\n",
      "        2    0.000    0.000    0.000    0.000 {built-in method builtins.iter}\n",
      "       24    0.000    0.000    0.000    0.000 {built-in method builtins.len}\n",
      "        8    0.000    0.000    0.000    0.000 {built-in method cat}\n",
      "        3    0.000    0.000    0.000    0.000 {built-in method empty}\n",
      "        9    0.000    0.000    0.000    0.000 {built-in method mean}\n",
      "        2    0.000    0.000    0.000    0.000 {built-in method relu}\n",
      "        6    0.000    0.000    0.000    0.000 {built-in method sum}\n",
      "        1    0.000    0.000    0.000    0.000 {built-in method tanh}\n",
      "       16    0.000    0.000    0.000    0.000 {built-in method torch._C._get_tracing_state}\n",
      "       15    0.000    0.000    0.000    0.000 {method 'dim' of 'torch._C._TensorBase' objects}\n",
      "        1    0.000    0.000    0.000    0.000 {method 'disable' of '_lsprof.Profiler' objects}\n",
      "        2    0.000    0.000    0.000    0.000 {method 'double' of 'torch._C._TensorBase' objects}\n",
      "        1    0.000    0.000    0.000    0.000 {method 'long' of 'torch._C._TensorBase' objects}\n",
      "        9    0.000    0.000    0.000    0.000 {method 'nonzero' of 'torch._C._TensorBase' objects}\n",
      "        6    0.000    0.000    0.000    0.000 {method 'reshape' of 'torch._C._TensorBase' objects}\n",
      "        2    0.000    0.000    0.000    0.000 {method 'size' of 'torch._C._TensorBase' objects}\n",
      "        2    0.000    0.000    0.000    0.000 {method 'sort' of 'torch._C._TensorBase' objects}\n",
      "        3    0.000    0.000    0.000    0.000 {method 't' of 'torch._C._TensorBase' objects}\n",
      "       33    0.000    0.000    0.000    0.000 {method 'values' of 'collections.OrderedDict' objects}\n",
      "\n",
      "\n"
     ]
    }
   ],
   "source": [
    "cProfile.run('model_pt((data,ids))')"
   ]
  },
  {
   "cell_type": "code",
   "execution_count": null,
   "metadata": {},
   "outputs": [],
   "source": []
  }
 ],
 "metadata": {
  "kernelspec": {
   "display_name": "Python 3",
   "language": "python",
   "name": "python3"
  },
  "language_info": {
   "codemirror_mode": {
    "name": "ipython",
    "version": 3
   },
   "file_extension": ".py",
   "mimetype": "text/x-python",
   "name": "python",
   "nbconvert_exporter": "python",
   "pygments_lexer": "ipython3",
   "version": "3.6.5"
  }
 },
 "nbformat": 4,
 "nbformat_minor": 2
}
