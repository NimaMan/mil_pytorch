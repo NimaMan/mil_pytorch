{
 "cells": [
  {
   "cell_type": "code",
   "execution_count": 1,
   "metadata": {},
   "outputs": [],
   "source": [
    "import torch\n",
    "import numpy"
   ]
  },
  {
   "cell_type": "markdown",
   "metadata": {},
   "source": [
    "## Best way to create X_before_pooling?"
   ]
  },
  {
   "cell_type": "code",
   "execution_count": 14,
   "metadata": {},
   "outputs": [
    {
     "name": "stdout",
     "output_type": "stream",
     "text": [
      "X before pooling before appending: tensor([])\n",
      "tensor([[-1.6920, -0.8894, -0.8353, -0.9314, -0.2614],\n",
      "        [ 1.4689,  1.4129,  0.8143,  0.6810,  0.7611],\n",
      "        [ 0.4124,  1.2164, -0.6203, -1.6592,  0.6160],\n",
      "        [-0.0352, -1.2103,  0.5547,  1.2982, -1.1753],\n",
      "        [-1.1694, -0.1647, -1.3840, -1.2145,  1.2190]]) tensor([[ 0.9956, -0.3950,  0.3607, -0.0694,  1.7188],\n",
      "        [-0.1851, -1.6884, -2.1094,  0.0044, -2.1059],\n",
      "        [ 1.7329,  0.8434,  1.1377, -0.6874, -0.6998],\n",
      "        [ 0.3192, -1.8128,  0.1668, -1.5976,  0.4167],\n",
      "        [ 0.3233, -0.1409,  1.2316,  1.9350,  2.1961]])\n",
      "tensor([])\n"
     ]
    }
   ],
   "source": [
    "X_before_pooling = torch.tensor([])\n",
    "print('X before pooling before appending: {}'.format(X_before_pooling))\n",
    "\n",
    "a = torch.randn(5, 5)\n",
    "b = torch.randn(5, 5)\n",
    "print(a, b)\n",
    "\n",
    "print(X_before_pooling)"
   ]
  },
  {
   "cell_type": "code",
   "execution_count": 29,
   "metadata": {},
   "outputs": [
    {
     "name": "stdout",
     "output_type": "stream",
     "text": [
      "tensor([[2.5226e-18, 2.4283e-18, 2.6302e+20, 6.1949e-04, 2.5640e-09],\n",
      "        [1.0501e-05, 3.1129e+12, 2.7096e-09, 6.6395e-07, 6.4108e-10],\n",
      "        [1.2893e+16, 1.2849e+31, 1.8395e+25, 6.1963e-04, 8.2731e+20],\n",
      "        [1.7585e-04, 2.7056e+23, 2.1393e+23, 4.2317e+21, 5.4661e+22],\n",
      "        [2.1476e-04, 1.7079e-07, 2.3049e-12, 7.1856e+22, 4.3605e+27]])\n",
      "tensor([0.7856, 0.8672, 0.1497, 1.1798, 0.7877]) tensor([ 1.0430,  1.0147, -0.2423, -1.4829,  0.8172])\n",
      "tensor([[ 7.8559e-01,  8.6724e-01,  1.4974e-01,  1.1798e+00,  7.8765e-01],\n",
      "        [ 1.0430e+00,  1.0147e+00, -2.4225e-01, -1.4829e+00,  8.1721e-01],\n",
      "        [ 1.2893e+16,  1.2849e+31,  1.8395e+25,  6.1963e-04,  8.2731e+20],\n",
      "        [ 1.7585e-04,  2.7056e+23,  2.1393e+23,  4.2317e+21,  5.4661e+22],\n",
      "        [ 2.1476e-04,  1.7079e-07,  2.3049e-12,  7.1856e+22,  4.3605e+27]])\n"
     ]
    }
   ],
   "source": [
    "# Pre-allocate bigger tensor and just fill it in\n",
    "X_before_pooling = torch.Tensor(5, 5)\n",
    "print(X_before_pooling)\n",
    "a = torch.randn(5)\n",
    "b = torch.randn(5)\n",
    "print(a, b)\n",
    "X_before_pooling[0,:] = a\n",
    "X_before_pooling[1,:] = b\n",
    "print(X_before_pooling)"
   ]
  },
  {
   "cell_type": "markdown",
   "metadata": {},
   "source": [
    "## Initialize empty tensor"
   ]
  },
  {
   "cell_type": "code",
   "execution_count": 34,
   "metadata": {},
   "outputs": [
    {
     "name": "stdout",
     "output_type": "stream",
     "text": [
      "tensor([[1.6816e-44, 0.0000e+00, 0.0000e+00, 0.0000e+00, 0.0000e+00],\n",
      "        [0.0000e+00, 0.0000e+00, 0.0000e+00, 0.0000e+00, 0.0000e+00]])\n",
      "tensor([[ 0.0000e+00, -0.0000e+00, -4.2375e-38,  2.5250e-29,  9.8091e-45],\n",
      "        [-0.0000e+00, -4.2374e-38, -3.6902e+19,  4.2039e-45,  0.0000e+00]])\n"
     ]
    }
   ],
   "source": [
    "empty_tensor = torch.empty(2, 5)\n",
    "print(empty_tensor)\n",
    "\n",
    "tensor = torch.Tensor(2, 5)\n",
    "print(tensor)"
   ]
  },
  {
   "cell_type": "markdown",
   "metadata": {},
   "source": [
    "## Iterating through bag"
   ]
  },
  {
   "cell_type": "code",
   "execution_count": 38,
   "metadata": {},
   "outputs": [
    {
     "name": "stdout",
     "output_type": "stream",
     "text": [
      "tensor([[ 0.0000e+00, -0.0000e+00, -3.4635e-38,  1.0845e-19,  1.1210e-44],\n",
      "        [ 0.0000e+00,  0.0000e+00,  0.0000e+00,  0.0000e+00,  0.0000e+00],\n",
      "        [ 0.0000e+00,  0.0000e+00,  0.0000e+00,  0.0000e+00,  0.0000e+00]])\n",
      "instance #0: tensor([ 0.0000e+00, -0.0000e+00, -3.4635e-38,  1.0845e-19,  1.1210e-44])\n",
      "instance #1: tensor([0., 0., 0., 0., 0.])\n",
      "instance #2: tensor([0., 0., 0., 0., 0.])\n"
     ]
    }
   ],
   "source": [
    "bag = torch.empty(3,5)\n",
    "print(bag)\n",
    "\n",
    "for i, instance in enumerate(bag):\n",
    "    print('instance #{}: {}'.format(i, instance))"
   ]
  },
  {
   "cell_type": "markdown",
   "metadata": {},
   "source": [
    "## Aggregation"
   ]
  },
  {
   "cell_type": "code",
   "execution_count": 50,
   "metadata": {},
   "outputs": [
    {
     "name": "stdout",
     "output_type": "stream",
     "text": [
      "tensor([[-1.3571,  1.0196,  0.6668,  0.3015,  0.8708],\n",
      "        [-1.7995, -0.4488, -0.3227, -0.2527,  0.2075],\n",
      "        [ 0.2666,  0.4104, -0.7916,  0.2265, -0.5440]])\n",
      "tensor([0.2666, 1.0196, 0.6668, 0.3015, 0.8708])\n",
      "tensor([-0.9633,  0.3271, -0.1491,  0.0918,  0.1781])\n"
     ]
    }
   ],
   "source": [
    "X_before_pooling = torch.randn(3,5)\n",
    "print(X_before_pooling)\n",
    "\n",
    "X_max, _ = torch.max(X_before_pooling, dim = 0)\n",
    "print(X_max)\n",
    "\n",
    "X_mean = torch.mean(X_before_pooling, dim = 0)\n",
    "print(X_mean)"
   ]
  },
  {
   "cell_type": "markdown",
   "metadata": {},
   "source": [
    "## Matrix multiplication and transposing"
   ]
  },
  {
   "cell_type": "code",
   "execution_count": 53,
   "metadata": {},
   "outputs": [
    {
     "name": "stdout",
     "output_type": "stream",
     "text": [
      "tensor([[1., 1., 1., 1., 1.],\n",
      "        [1., 1., 1., 1., 1.],\n",
      "        [1., 1., 1., 1., 1.]])\n",
      "tensor([[2., 2., 2., 2., 2.],\n",
      "        [2., 2., 2., 2., 2.],\n",
      "        [2., 2., 2., 2., 2.],\n",
      "        [2., 2., 2., 2., 2.]])\n"
     ]
    }
   ],
   "source": [
    "X = torch.ones(3,5)\n",
    "print(X)\n",
    "\n",
    "weights = torch.ones(4, 5)*2\n",
    "print(weights)"
   ]
  },
  {
   "cell_type": "code",
   "execution_count": 55,
   "metadata": {},
   "outputs": [
    {
     "data": {
      "text/plain": [
       "tensor([[10., 10., 10., 10.],\n",
       "        [10., 10., 10., 10.],\n",
       "        [10., 10., 10., 10.]])"
      ]
     },
     "execution_count": 55,
     "metadata": {},
     "output_type": "execute_result"
    }
   ],
   "source": [
    "X @ weights.t()"
   ]
  },
  {
   "cell_type": "markdown",
   "metadata": {},
   "source": [
    "## Adding bias"
   ]
  },
  {
   "cell_type": "code",
   "execution_count": 7,
   "metadata": {},
   "outputs": [
    {
     "name": "stdout",
     "output_type": "stream",
     "text": [
      "tensor([[-0.9021,  0.1436,  2.4879, -0.6421, -2.1643],\n",
      "        [-1.1591,  0.3825,  0.0510, -1.8364, -0.8634],\n",
      "        [ 0.1113,  0.8304, -1.4286, -1.0422, -0.7285]])\n",
      "tensor([-1.3368, -0.8511, -1.9846,  0.7704,  0.0288])\n",
      "tensor([[-2.2389, -0.7075,  0.5033,  0.1283, -2.1355],\n",
      "        [-2.4959, -0.4686, -1.9337, -1.0660, -0.8346],\n",
      "        [-1.2255, -0.0207, -3.4132, -0.2718, -0.6997]])\n"
     ]
    }
   ],
   "source": [
    "X = torch.randn(3, 5)\n",
    "print(X)\n",
    "\n",
    "bias = torch.randn(5)\n",
    "print(bias)\n",
    "\n",
    "print(X + bias)"
   ]
  },
  {
   "cell_type": "markdown",
   "metadata": {},
   "source": [
    "## Indexing"
   ]
  },
  {
   "cell_type": "code",
   "execution_count": 8,
   "metadata": {},
   "outputs": [
    {
     "name": "stdout",
     "output_type": "stream",
     "text": [
      "tensor([ 0.8379, -1.0027, -0.1347, -0.9051,  0.2650, -1.3528,  0.2143,  0.4248,\n",
      "        -0.0694, -1.2394])\n",
      "tensor([0.8379])\n"
     ]
    }
   ],
   "source": [
    "array = torch.randn(10)\n",
    "print(array)\n",
    "print(array[:1])"
   ]
  },
  {
   "cell_type": "markdown",
   "metadata": {},
   "source": [
    "## Filtering out invalid instances"
   ]
  },
  {
   "cell_type": "code",
   "execution_count": 11,
   "metadata": {},
   "outputs": [
    {
     "name": "stdout",
     "output_type": "stream",
     "text": [
      "tensor([[ 1.0000, -2.2180, -0.4310,  0.1129,  0.1404, -2.9295],\n",
      "        [ 0.0000,  1.1969,  0.4058, -1.5168,  1.2231,  0.3105],\n",
      "        [ 1.0000,  0.8072,  0.5837,  2.2988, -0.3363, -1.9074],\n",
      "        [ 0.0000,  1.7415, -0.3304,  1.3577,  0.3876, -1.0136],\n",
      "        [ 1.0000,  0.0983,  1.2919, -1.1438,  1.4636, -0.0545],\n",
      "        [ 0.0000, -0.4361, -0.3274,  0.2279,  0.0228,  1.1788],\n",
      "        [ 0.0000,  0.2251, -1.1689, -1.2223, -0.2006,  0.6781],\n",
      "        [ 1.0000,  0.9548,  0.1193, -0.5748,  0.0848, -0.4584],\n",
      "        [ 0.0000, -0.9389, -0.2201,  0.1647, -0.9220, -0.5993],\n",
      "        [ 1.0000,  0.2828, -0.5614, -0.7681,  1.2522,  0.1197]])\n"
     ]
    }
   ],
   "source": [
    "X = torch.randn(10, 6)\n",
    "X[:, 0] = 1\n",
    "X[[1, 3, 5, 6 , 8], 0] = 0\n",
    "print(X)"
   ]
  },
  {
   "cell_type": "code",
   "execution_count": 13,
   "metadata": {},
   "outputs": [
    {
     "name": "stdout",
     "output_type": "stream",
     "text": [
      "tensor([[-2.2180, -0.4310,  0.1129,  0.1404, -2.9295],\n",
      "        [ 0.8072,  0.5837,  2.2988, -0.3363, -1.9074],\n",
      "        [ 0.0983,  1.2919, -1.1438,  1.4636, -0.0545],\n",
      "        [ 0.9548,  0.1193, -0.5748,  0.0848, -0.4584],\n",
      "        [ 0.2828, -0.5614, -0.7681,  1.2522,  0.1197]])\n"
     ]
    }
   ],
   "source": [
    "print(X[X[:,0] == 1, 1:])"
   ]
  },
  {
   "cell_type": "markdown",
   "metadata": {},
   "source": [
    "## 3D tensor"
   ]
  },
  {
   "cell_type": "code",
   "execution_count": 33,
   "metadata": {},
   "outputs": [
    {
     "name": "stdout",
     "output_type": "stream",
     "text": [
      "tensor([[[1., 1., 1., 1., 1.],\n",
      "         [2., 2., 2., 2., 2.],\n",
      "         [3., 3., 3., 3., 3.]],\n",
      "\n",
      "        [[1., 1., 1., 1., 1.],\n",
      "         [3., 3., 3., 3., 3.],\n",
      "         [2., 2., 2., 2., 2.]]])\n",
      "tensor([[2., 3., 4., 5., 6.],\n",
      "        [2., 3., 4., 5., 6.],\n",
      "        [2., 3., 4., 5., 6.],\n",
      "        [2., 3., 4., 5., 6.]])\n",
      "tensor([-0.7588,  1.0851,  1.2692, -1.4574])\n",
      "Multiplication using @ operator:\n",
      " tensor([[[20., 20., 20., 20.],\n",
      "         [40., 40., 40., 40.],\n",
      "         [60., 60., 60., 60.]],\n",
      "\n",
      "        [[20., 20., 20., 20.],\n",
      "         [60., 60., 60., 60.],\n",
      "         [40., 40., 40., 40.]]])\n",
      "Multiplication using matmul function:\n",
      " tensor([[[20., 20., 20., 20.],\n",
      "         [40., 40., 40., 40.],\n",
      "         [60., 60., 60., 60.]],\n",
      "\n",
      "        [[20., 20., 20., 20.],\n",
      "         [60., 60., 60., 60.],\n",
      "         [40., 40., 40., 40.]]])\n",
      "tensor([[[19.2412, 21.0851, 21.2692, 18.5426],\n",
      "         [39.2411, 41.0851, 41.2692, 38.5426],\n",
      "         [59.2411, 61.0851, 61.2692, 58.5426]],\n",
      "\n",
      "        [[19.2412, 21.0851, 21.2692, 18.5426],\n",
      "         [59.2411, 61.0851, 61.2692, 58.5426],\n",
      "         [39.2411, 41.0851, 41.2692, 38.5426]]])\n"
     ]
    }
   ],
   "source": [
    "tensor3d = torch.ones(2,3,5)\n",
    "tensor3d[0,1,:] += 1\n",
    "tensor3d[0,2,:] += 2\n",
    "\n",
    "tensor3d[1,1,:] += 2\n",
    "tensor3d[1,2,:] += 1\n",
    "print(tensor3d)\n",
    "\n",
    "tensor2d = torch.ones(4,5) + torch.Tensor([1, 2, 3, 4, 5])\n",
    "print(tensor2d)\n",
    "\n",
    "tensorBias = torch.randn(4)\n",
    "print(tensorBias)\n",
    "\n",
    "# Multiplication with broadcasting working\n",
    "print('Multiplication using @ operator:\\n {}'.format(tensor3d @ tensor2d.t()))\n",
    "print('Multiplication using matmul function:\\n {}'.format(tensor3d.matmul(tensor2d.t())))\n",
    "\n",
    "# Adding bias works\n",
    "print((tensor3d @ tensor2d.t()) + tensorBias)"
   ]
  },
  {
   "cell_type": "markdown",
   "metadata": {},
   "source": [
    "## Dimensions of tensors"
   ]
  },
  {
   "cell_type": "code",
   "execution_count": 38,
   "metadata": {},
   "outputs": [
    {
     "name": "stdout",
     "output_type": "stream",
     "text": [
      "tensor([[[1., 1., 1., 1., 1.],\n",
      "         [1., 1., 1., 1., 1.],\n",
      "         [1., 1., 1., 1., 1.]],\n",
      "\n",
      "        [[1., 1., 1., 1., 1.],\n",
      "         [1., 1., 1., 1., 1.],\n",
      "         [1., 1., 1., 1., 1.]]]) \n",
      " Size: torch.Size([2, 3, 5])\n"
     ]
    }
   ],
   "source": [
    "a = torch.ones(2 ,3, 5)\n",
    "print(a, '\\n Size: {}'.format(a.size()))"
   ]
  },
  {
   "cell_type": "markdown",
   "metadata": {},
   "source": [
    "## Aggregating only some instances from 3D tensor"
   ]
  },
  {
   "cell_type": "code",
   "execution_count": 60,
   "metadata": {},
   "outputs": [
    {
     "name": "stdout",
     "output_type": "stream",
     "text": [
      "Valid instances:\n",
      " tensor([[1, 0, 0],\n",
      "        [0, 1, 1]], dtype=torch.uint8)\n",
      "Output from NN:\n",
      " tensor([[[1., 1., 1., 1., 1.],\n",
      "         [2., 2., 2., 2., 2.],\n",
      "         [3., 3., 3., 3., 3.]],\n",
      "\n",
      "        [[1., 1., 1., 1., 1.],\n",
      "         [4., 4., 4., 4., 4.],\n",
      "         [5., 5., 5., 5., 5.]]])\n",
      "tensor([[1., 1., 1., 1., 1.]])\n",
      "tensor([[4., 4., 4., 4., 4.],\n",
      "        [5., 5., 5., 5., 5.]])\n"
     ]
    }
   ],
   "source": [
    "tensor3d = torch.ones(2,3,6)\n",
    "tensor3d[0,1,:] += 1\n",
    "tensor3d[0,2,:] += 2\n",
    "\n",
    "tensor3d[1,1,:] += 3\n",
    "tensor3d[1,2,:] += 4\n",
    "\n",
    "tensor3d[:,:,0] = 1\n",
    "tensor3d[0,1:,0] = 0\n",
    "tensor3d[1,0,0] = 0\n",
    "tensor3d[1,2,0] = 1\n",
    "# print(tensor3d)\n",
    "\n",
    "valid_instances = tensor3d[:,:,0].type(torch.ByteTensor)\n",
    "print('Valid instances:\\n {}'.format(valid_instances))\n",
    "\n",
    "NN_out = tensor3d[:,:,1:]\n",
    "print('Output from NN:\\n {}'.format(NN_out))\n",
    "\n",
    "for i, indices in enumerate(valid_instances):\n",
    "    print(NN_out[i,indices])"
   ]
  },
  {
   "cell_type": "markdown",
   "metadata": {},
   "source": [
    "## 4D tensor"
   ]
  },
  {
   "cell_type": "code",
   "execution_count": 8,
   "metadata": {},
   "outputs": [
    {
     "name": "stdout",
     "output_type": "stream",
     "text": [
      "tensor([[[[1., 1., 1., 1., 1.],\n",
      "          [2., 2., 2., 2., 2.],\n",
      "          [3., 3., 3., 3., 3.]],\n",
      "\n",
      "         [[1., 1., 1., 1., 1.],\n",
      "          [3., 3., 3., 3., 3.],\n",
      "          [2., 2., 2., 2., 2.]]],\n",
      "\n",
      "\n",
      "        [[[1., 1., 1., 1., 1.],\n",
      "          [2., 2., 2., 2., 2.],\n",
      "          [3., 3., 3., 3., 3.]],\n",
      "\n",
      "         [[1., 1., 1., 1., 1.],\n",
      "          [3., 3., 3., 3., 3.],\n",
      "          [2., 2., 2., 2., 2.]]]])\n",
      "tensor([[2., 3., 4., 5., 6.],\n",
      "        [2., 3., 4., 5., 6.],\n",
      "        [2., 3., 4., 5., 6.],\n",
      "        [2., 3., 4., 5., 6.]])\n",
      "tensor([-1.8746,  1.0237,  1.6971,  0.1340])\n",
      "Multiplication using @ operator:\n",
      " tensor([[[[20., 20., 20., 20.],\n",
      "          [40., 40., 40., 40.],\n",
      "          [60., 60., 60., 60.]],\n",
      "\n",
      "         [[20., 20., 20., 20.],\n",
      "          [60., 60., 60., 60.],\n",
      "          [40., 40., 40., 40.]]],\n",
      "\n",
      "\n",
      "        [[[20., 20., 20., 20.],\n",
      "          [40., 40., 40., 40.],\n",
      "          [60., 60., 60., 60.]],\n",
      "\n",
      "         [[20., 20., 20., 20.],\n",
      "          [60., 60., 60., 60.],\n",
      "          [40., 40., 40., 40.]]]])\n",
      "Multiplication using matmul function:\n",
      " tensor([[[[20., 20., 20., 20.],\n",
      "          [40., 40., 40., 40.],\n",
      "          [60., 60., 60., 60.]],\n",
      "\n",
      "         [[20., 20., 20., 20.],\n",
      "          [60., 60., 60., 60.],\n",
      "          [40., 40., 40., 40.]]],\n",
      "\n",
      "\n",
      "        [[[20., 20., 20., 20.],\n",
      "          [40., 40., 40., 40.],\n",
      "          [60., 60., 60., 60.]],\n",
      "\n",
      "         [[20., 20., 20., 20.],\n",
      "          [60., 60., 60., 60.],\n",
      "          [40., 40., 40., 40.]]]])\n"
     ]
    }
   ],
   "source": [
    "tensor4d = torch.ones(2,2,3,5)\n",
    "tensor4d[0,0,1,:] += 1\n",
    "tensor4d[0,0,2,:] += 2\n",
    "\n",
    "tensor4d[0,1,1,:] += 2\n",
    "tensor4d[0,1,2,:] += 1\n",
    "\n",
    "\n",
    "tensor4d[1,0,1,:] += 1\n",
    "tensor4d[1,0,2,:] += 2\n",
    "\n",
    "tensor4d[1,1,1,:] += 2\n",
    "tensor4d[1,1,2,:] += 1\n",
    "print(tensor4d)\n",
    "\n",
    "tensor2d = torch.ones(4,5) + torch.Tensor([1, 2, 3, 4, 5])\n",
    "print(tensor2d)\n",
    "\n",
    "tensorBias = torch.randn(4)\n",
    "print(tensorBias)\n",
    "\n",
    "# Multiplication with broadcasting working\n",
    "print('Multiplication using @ operator:\\n {}'.format(tensor4d @ tensor2d.t()))\n",
    "print('Multiplication using matmul function:\\n {}'.format(tensor4d.matmul(tensor2d.t())))\n",
    "\n",
    "# # Adding bias works\n",
    "# print((tensor4d @ tensor2d.t()) + tensorBias)"
   ]
  },
  {
   "cell_type": "markdown",
   "metadata": {},
   "source": [
    "## 1 in my_array"
   ]
  },
  {
   "cell_type": "code",
   "execution_count": 12,
   "metadata": {},
   "outputs": [],
   "source": [
    "my_array = numpy.array([1., 0., 2., 4.])"
   ]
  },
  {
   "cell_type": "code",
   "execution_count": 14,
   "metadata": {},
   "outputs": [
    {
     "name": "stdout",
     "output_type": "stream",
     "text": [
      "True\n"
     ]
    }
   ],
   "source": [
    "print(1 in my_array)"
   ]
  },
  {
   "cell_type": "markdown",
   "metadata": {},
   "source": [
    "## Indexing Numpy arrays and tensors"
   ]
  },
  {
   "cell_type": "code",
   "execution_count": 3,
   "metadata": {},
   "outputs": [
    {
     "name": "stdout",
     "output_type": "stream",
     "text": [
      "[1, 2, 3, 4, 5, 6, 7, 8, 9, 10]\n",
      "[ 1  2  3  4  5  6  7  8  9 10]\n",
      "tensor([ 1,  2,  3,  4,  5,  6,  7,  8,  9, 10])\n"
     ]
    }
   ],
   "source": [
    "array = [1, 2, 3, 4, 5, 6, 7, 8, 9, 10]\n",
    "print(array)\n",
    "nparray = numpy.array(array)\n",
    "print(nparray)\n",
    "tensor = torch.tensor(array)\n",
    "print(tensor)"
   ]
  },
  {
   "cell_type": "code",
   "execution_count": 6,
   "metadata": {},
   "outputs": [
    {
     "name": "stdout",
     "output_type": "stream",
     "text": [
      "[1, 2]\n",
      "[1 2]\n",
      "tensor([1, 2, 3, 4, 5, 6])\n"
     ]
    }
   ],
   "source": [
    "print(array[:2])\n",
    "print(nparray[:2])\n",
    "print(tensor[:6])"
   ]
  },
  {
   "cell_type": "markdown",
   "metadata": {},
   "source": [
    "## Summing empty array"
   ]
  },
  {
   "cell_type": "code",
   "execution_count": 18,
   "metadata": {},
   "outputs": [],
   "source": [
    "tensor = torch.tensor([20, 50, 12])\n",
    "print(tensor)\n",
    "\n",
    "print(torch.sum(tensor[0:]))\n",
    "\n",
    "print(sum(tensor[0:2]))"
   ]
  },
  {
   "cell_type": "markdown",
   "metadata": {},
   "source": [
    "## Stratified sampling"
   ]
  },
  {
   "cell_type": "code",
   "execution_count": 15,
   "metadata": {},
   "outputs": [
    {
     "name": "stdout",
     "output_type": "stream",
     "text": [
      "[ 0  1  2  3  4  5  6  7  8  9 10 11]\n",
      "[ 0  8  1  9 11 10  7  4  5] [2 6 3]\n"
     ]
    }
   ],
   "source": [
    "from sklearn.model_selection import train_test_split\n",
    "import numpy\n",
    "\n",
    "y = [1, 1, -1, 1, -1, -1, 1, 1, 1, 1, -1, 1]\n",
    "indices = numpy.arange(len(y))\n",
    "print(indices)\n",
    "\n",
    "i, i_t = train_test_split(indices, stratify = y)\n",
    "\n",
    "# print(y, i)\n",
    "# print(y_t, i_t)\n",
    "\n",
    "print(i, i_t)"
   ]
  },
  {
   "cell_type": "markdown",
   "metadata": {},
   "source": [
    "## Normalization"
   ]
  },
  {
   "cell_type": "code",
   "execution_count": 36,
   "metadata": {},
   "outputs": [
    {
     "name": "stdout",
     "output_type": "stream",
     "text": [
      "[[8.26848863e-01 2.60331974e-01 7.94174722e-01 7.59572733e-01\n",
      "  5.32099193e-01]\n",
      " [3.75658501e-01 6.02018054e-01 3.21407786e-02 6.89338270e-01\n",
      "  9.07379982e-01]\n",
      " [6.03652695e-01 7.01346854e-02 1.83233753e-01 3.14309932e-01\n",
      "  9.58149073e-01]\n",
      " [2.79071887e-01 2.64151340e-02 9.42845742e-01 4.19210741e-01\n",
      "  4.65723160e-04]\n",
      " [2.12099483e-01 6.26883938e-01 6.61220780e-01 2.21204144e-01\n",
      "  7.85706598e-01]\n",
      " [8.90780711e-01 4.68219077e-01 9.10420186e-01 8.67048109e-01\n",
      "  2.73698413e-01]\n",
      " [5.63709898e-01 8.81114082e-01 7.13846570e-01 8.47854549e-01\n",
      "  4.55308050e-01]\n",
      " [3.90978009e-01 7.67985752e-01 9.22113234e-01 8.80473334e-01\n",
      "  3.44759659e-01]\n",
      " [2.98716173e-01 8.16275006e-01 9.45835433e-01 9.50966724e-01\n",
      "  2.94467320e-01]\n",
      " [4.35948912e-01 1.02992458e-01 6.44832474e-01 4.19319974e-01\n",
      "  3.38096908e-01]]\n",
      "0.29144006704001174 0.5501985679074951\n",
      "[[ 0.94925278 -0.99460104  0.83714006  0.71841243 -0.06210325]\n",
      " [-0.59888837  0.17780495 -1.77757916  0.47742132  1.22557416]\n",
      " [ 0.18341379 -1.64721305 -1.25914332 -0.80938986  1.39977495]\n",
      " [-0.93029995 -1.7972252   1.34726559 -0.44945031 -1.88626379]\n",
      " [-1.16009816  0.2631257   0.38094354 -1.12885791  0.80808392]\n",
      " [ 1.16861812 -0.28129108  1.23600582  1.08718593 -0.94873762]\n",
      " [ 0.04636058  1.13544962  0.56151511  1.02132828 -0.32559187]\n",
      " [-0.54632351  0.74727949  1.27612744  1.13325106 -0.70490963]\n",
      " [-0.86289575  0.91297137  1.35752393  1.3751306  -0.87747457]\n",
      " [-0.39201767 -1.53447024  0.32471138 -0.4490755  -0.72777111]]\n"
     ]
    }
   ],
   "source": [
    "import numpy\n",
    "\n",
    "y = numpy.random.rand(10, 5)\n",
    "print(y)\n",
    "\n",
    "print(y.std(), y.mean())\n",
    "\n",
    "y_normalized = (y - y.mean())/y.std()\n",
    "print(y_normalized)"
   ]
  },
  {
   "cell_type": "code",
   "execution_count": 46,
   "metadata": {},
   "outputs": [],
   "source": [
    "import torch\n",
    "x = torch.Tensor([[1.5, 2.5, 3.5, 4.5, 5.5], [1, 2, 3, 4, 5], [1, 2, 3, 4, 5], [1, 2, 3, 4, 5]])"
   ]
  },
  {
   "cell_type": "code",
   "execution_count": 47,
   "metadata": {},
   "outputs": [
    {
     "data": {
      "text/plain": [
       "tensor([1.1250, 2.1250, 3.1250, 4.1250, 5.1250])"
      ]
     },
     "execution_count": 47,
     "metadata": {},
     "output_type": "execute_result"
    }
   ],
   "source": [
    "x.mean(dim = 0)"
   ]
  },
  {
   "cell_type": "code",
   "execution_count": 48,
   "metadata": {},
   "outputs": [
    {
     "data": {
      "text/plain": [
       "tensor([0.2500, 0.2500, 0.2500, 0.2500, 0.2500])"
      ]
     },
     "execution_count": 48,
     "metadata": {},
     "output_type": "execute_result"
    }
   ],
   "source": [
    "x.std(dim = 0)"
   ]
  },
  {
   "cell_type": "code",
   "execution_count": 49,
   "metadata": {},
   "outputs": [
    {
     "name": "stdout",
     "output_type": "stream",
     "text": [
      "tensor([0.2500, 0.2500, 0.2500, 0.2500, 0.2500]) tensor([1.1250, 2.1250, 3.1250, 4.1250, 5.1250])\n",
      "tensor([[ 1.5000,  1.5000,  1.5000,  1.5000,  1.5000],\n",
      "        [-0.5000, -0.5000, -0.5000, -0.5000, -0.5000],\n",
      "        [-0.5000, -0.5000, -0.5000, -0.5000, -0.5000],\n",
      "        [-0.5000, -0.5000, -0.5000, -0.5000, -0.5000]])\n"
     ]
    }
   ],
   "source": [
    "std = x.std(dim = 0)\n",
    "mean = x.mean(dim = 0)\n",
    "print(std, mean)\n",
    "print((x - mean)/std)"
   ]
  },
  {
   "cell_type": "markdown",
   "metadata": {},
   "source": [
    "## [for..]"
   ]
  },
  {
   "cell_type": "code",
   "execution_count": 50,
   "metadata": {},
   "outputs": [
    {
     "data": {
      "text/plain": [
       "[0, 1, 2, 3, 4, 5, 6, 7, 8, 9, 10, 11, 12, 13, 14, 15, 16, 17, 18, 19]"
      ]
     },
     "execution_count": 50,
     "metadata": {},
     "output_type": "execute_result"
    }
   ],
   "source": [
    "[i for i in range(20)]"
   ]
  },
  {
   "cell_type": "markdown",
   "metadata": {},
   "source": [
    "## n_instances of ns_instances"
   ]
  },
  {
   "cell_type": "code",
   "execution_count": 61,
   "metadata": {},
   "outputs": [],
   "source": [
    "n_instances = [[1, 2, 3], [4], [5, 6, 7, 8, 9]]"
   ]
  },
  {
   "cell_type": "code",
   "execution_count": 63,
   "metadata": {},
   "outputs": [
    {
     "name": "stdout",
     "output_type": "stream",
     "text": [
      "[[1, 2, 3], [4], [5, 6, 7, 8, 9]]\n"
     ]
    }
   ],
   "source": [
    "print(n_instances)"
   ]
  },
  {
   "cell_type": "code",
   "execution_count": 66,
   "metadata": {},
   "outputs": [
    {
     "data": {
      "text/plain": [
       "8"
      ]
     },
     "execution_count": 66,
     "metadata": {},
     "output_type": "execute_result"
    }
   ],
   "source": [
    "n_instances[2][3]"
   ]
  },
  {
   "cell_type": "code",
   "execution_count": 67,
   "metadata": {},
   "outputs": [
    {
     "ename": "ValueError",
     "evalue": "expected sequence of length 3 at dim 1 (got 1)",
     "output_type": "error",
     "traceback": [
      "\u001b[0;31m---------------------------------------------------------------------------\u001b[0m",
      "\u001b[0;31mValueError\u001b[0m                                Traceback (most recent call last)",
      "\u001b[0;32m<ipython-input-67-1403418f14aa>\u001b[0m in \u001b[0;36m<module>\u001b[0;34m\u001b[0m\n\u001b[1;32m      1\u001b[0m \u001b[0;32mimport\u001b[0m \u001b[0mtorch\u001b[0m\u001b[0;34m\u001b[0m\u001b[0m\n\u001b[0;32m----> 2\u001b[0;31m \u001b[0mn_instances\u001b[0m \u001b[0;34m=\u001b[0m \u001b[0mtorch\u001b[0m\u001b[0;34m.\u001b[0m\u001b[0mTensor\u001b[0m\u001b[0;34m(\u001b[0m\u001b[0;34m[\u001b[0m\u001b[0;34m[\u001b[0m\u001b[0;36m1\u001b[0m\u001b[0;34m,\u001b[0m \u001b[0;36m2\u001b[0m\u001b[0;34m,\u001b[0m \u001b[0;36m3\u001b[0m\u001b[0;34m]\u001b[0m\u001b[0;34m,\u001b[0m \u001b[0;34m[\u001b[0m\u001b[0;36m4\u001b[0m\u001b[0;34m]\u001b[0m\u001b[0;34m,\u001b[0m \u001b[0;34m[\u001b[0m\u001b[0;36m5\u001b[0m\u001b[0;34m,\u001b[0m \u001b[0;36m6\u001b[0m\u001b[0;34m,\u001b[0m \u001b[0;36m7\u001b[0m\u001b[0;34m,\u001b[0m \u001b[0;36m8\u001b[0m\u001b[0;34m,\u001b[0m \u001b[0;36m9\u001b[0m\u001b[0;34m]\u001b[0m\u001b[0;34m]\u001b[0m\u001b[0;34m)\u001b[0m\u001b[0;34m\u001b[0m\u001b[0m\n\u001b[0m",
      "\u001b[0;31mValueError\u001b[0m: expected sequence of length 3 at dim 1 (got 1)"
     ]
    }
   ],
   "source": [
    "import torch\n",
    "n_instances = torch.Tensor([[1, 2, 3], [4], [5, 6, 7, 8, 9]])"
   ]
  },
  {
   "cell_type": "markdown",
   "metadata": {},
   "source": [
    "## Normalizing"
   ]
  },
  {
   "cell_type": "code",
   "execution_count": 1,
   "metadata": {},
   "outputs": [],
   "source": [
    "import utils\n",
    "import numpy\n",
    "file_path = 'data1matlab/MIL-Data-2002-Musk-Corel-Trec9-MATLAB/fox_100x100_matlab.mat'\n",
    "fox = utils.musk_dataset(file_path, normalize = False)"
   ]
  },
  {
   "cell_type": "code",
   "execution_count": 2,
   "metadata": {},
   "outputs": [
    {
     "name": "stdout",
     "output_type": "stream",
     "text": [
      "torch.Size([1320, 122])\n"
     ]
    }
   ],
   "source": [
    "# print((fox.data == numpy.NaN))\n",
    "print(fox.data.shape)"
   ]
  },
  {
   "cell_type": "markdown",
   "metadata": {},
   "source": [
    "## Checking parameters of linear layer"
   ]
  },
  {
   "cell_type": "code",
   "execution_count": 29,
   "metadata": {},
   "outputs": [
    {
     "ename": "NameError",
     "evalue": "name 'out_features' is not defined",
     "output_type": "error",
     "traceback": [
      "\u001b[0;31m---------------------------------------------------------------------------\u001b[0m",
      "\u001b[0;31mNameError\u001b[0m                                 Traceback (most recent call last)",
      "\u001b[0;32m<ipython-input-29-33e38eb02f6e>\u001b[0m in \u001b[0;36m<module>\u001b[0;34m\u001b[0m\n\u001b[1;32m     11\u001b[0m )\n\u001b[1;32m     12\u001b[0m \u001b[0;34m\u001b[0m\u001b[0m\n\u001b[0;32m---> 13\u001b[0;31m \u001b[0mprint\u001b[0m\u001b[0;34m(\u001b[0m\u001b[0mout_features\u001b[0m \u001b[0;32min\u001b[0m \u001b[0mmodel\u001b[0m\u001b[0;34m[\u001b[0m\u001b[0mlen\u001b[0m\u001b[0;34m(\u001b[0m\u001b[0mmodel\u001b[0m\u001b[0;34m)\u001b[0m\u001b[0;34m-\u001b[0m\u001b[0;36m1\u001b[0m\u001b[0;34m]\u001b[0m\u001b[0;34m)\u001b[0m\u001b[0;34m\u001b[0m\u001b[0m\n\u001b[0m",
      "\u001b[0;31mNameError\u001b[0m: name 'out_features' is not defined"
     ]
    }
   ],
   "source": [
    "import torch\n",
    "\n",
    "linear = torch.nn.Linear(10, 4, bias = True)\n",
    "\n",
    "model = torch.nn.Sequential(\n",
    "    linear,\n",
    "    linear,\n",
    "    linear,\n",
    "    torch.nn.Linear(2,3, bias = True), \n",
    "    torch.nn.ReLU()\n",
    ")\n",
    "\n",
    "print(out_features in model[len(model)-1])"
   ]
  },
  {
   "cell_type": "code",
   "execution_count": 34,
   "metadata": {},
   "outputs": [],
   "source": [
    "for \n",
    "try:\n",
    "    print(model[len(model)-1].out_features)\n",
    "except:\n",
    "    pass"
   ]
  },
  {
   "cell_type": "code",
   "execution_count": 10,
   "metadata": {},
   "outputs": [
    {
     "ename": "ValueError",
     "evalue": "Testing error!",
     "output_type": "error",
     "traceback": [
      "\u001b[0;31m---------------------------------------------------------------------------\u001b[0m",
      "\u001b[0;31mValueError\u001b[0m                                Traceback (most recent call last)",
      "\u001b[0;32m<ipython-input-10-240a9a8cedcc>\u001b[0m in \u001b[0;36m<module>\u001b[0;34m\u001b[0m\n\u001b[0;32m----> 1\u001b[0;31m \u001b[0merror\u001b[0m\u001b[0;34m(\u001b[0m\u001b[0;34m)\u001b[0m\u001b[0;34m\u001b[0m\u001b[0m\n\u001b[0m",
      "\u001b[0;32m<ipython-input-9-85d53c93f94c>\u001b[0m in \u001b[0;36merror\u001b[0;34m()\u001b[0m\n\u001b[1;32m      1\u001b[0m \u001b[0;32mdef\u001b[0m \u001b[0merror\u001b[0m\u001b[0;34m(\u001b[0m\u001b[0;34m)\u001b[0m\u001b[0;34m:\u001b[0m\u001b[0;34m\u001b[0m\u001b[0m\n\u001b[0;32m----> 2\u001b[0;31m     \u001b[0;32mraise\u001b[0m \u001b[0mValueError\u001b[0m\u001b[0;34m(\u001b[0m\u001b[0;34m\"Testing error!\"\u001b[0m\u001b[0;34m)\u001b[0m\u001b[0;34m\u001b[0m\u001b[0m\n\u001b[0m",
      "\u001b[0;31mValueError\u001b[0m: Testing error!"
     ]
    }
   ],
   "source": []
  },
  {
   "cell_type": "markdown",
   "metadata": {},
   "source": [
    "## Input python array to torch, what is output?"
   ]
  },
  {
   "cell_type": "code",
   "execution_count": 12,
   "metadata": {},
   "outputs": [],
   "source": [
    "import torch\n",
    "\n",
    "class DummyModel(torch.nn.Module):\n",
    "    def __init__(self):\n",
    "        super().__init__()\n",
    "    def forward(self,array):\n",
    "        return array[:len(array)-1]"
   ]
  },
  {
   "cell_type": "code",
   "execution_count": 20,
   "metadata": {},
   "outputs": [
    {
     "name": "stdout",
     "output_type": "stream",
     "text": [
      "[[2, 3], [1, 1, 2, 1]]\n",
      "[[2, 3]]\n"
     ]
    }
   ],
   "source": [
    "# "
   ]
  },
  {
   "cell_type": "markdown",
   "metadata": {},
   "source": [
    "## Forward with bagids"
   ]
  },
  {
   "cell_type": "code",
   "execution_count": 38,
   "metadata": {},
   "outputs": [
    {
     "name": "stdout",
     "output_type": "stream",
     "text": [
      "[1. 2. 3. 4. 5. 6.] [2 1 1 2 1 2]\n"
     ]
    }
   ],
   "source": [
    "import numpy\n",
    "import torch\n",
    "\n",
    "inner_bagids = torch.Tensor([1, 1, 2, 3, 4, 4, 5, 6, 6])\n",
    "\n",
    "bags, counts = numpy.unique(inner_bagids, return_counts=True)\n",
    "print(bags, counts)\n"
   ]
  },
  {
   "cell_type": "code",
   "execution_count": 65,
   "metadata": {},
   "outputs": [
    {
     "name": "stdout",
     "output_type": "stream",
     "text": [
      "[0, 2, 3, 4, 6, 7]\n"
     ]
    }
   ],
   "source": [
    "mask = []\n",
    "for i, n in enumerate(counts):\n",
    "    mask.append(sum(counts[:i]))\n",
    "\n",
    "print(mask)"
   ]
  },
  {
   "cell_type": "code",
   "execution_count": 67,
   "metadata": {},
   "outputs": [
    {
     "name": "stdout",
     "output_type": "stream",
     "text": [
      "tensor([[1., 1., 1., 1., 2., 2.],\n",
      "        [1., 1., 2., 2., 3., 4.]])\n",
      "[0, 2, 3, 4, 6, 7]\n"
     ]
    }
   ],
   "source": [
    "bagids = torch.Tensor([[1, 1,1,1,1,1,2,2,2],[1,1,1,2,2,2,3,4,4], [1, 1, 2, 3, 4, 4, 5, 6, 6]])\n",
    "bagids = bagids[:len(bagids)-1]\n",
    "print(bagids[:, mask])\n",
    "print(mask)"
   ]
  },
  {
   "cell_type": "code",
   "execution_count": 76,
   "metadata": {},
   "outputs": [
    {
     "data": {
      "text/plain": [
       "True"
      ]
     },
     "execution_count": 76,
     "metadata": {},
     "output_type": "execute_result"
    }
   ],
   "source": [
    "tensor = torch.Tensor([[1,2,3], [4, 5, 6]])\n",
    "cropped_tensor = tensor[:len(bagids)-1]\n",
    "cropped_tensor.shape[0] == 1"
   ]
  },
  {
   "cell_type": "markdown",
   "metadata": {},
   "source": [
    "## Testing forwarding of bagids"
   ]
  },
  {
   "cell_type": "code",
   "execution_count": 9,
   "metadata": {},
   "outputs": [],
   "source": [
    "from torch import nn\n",
    "import torch\n",
    "import BagModel\n",
    "\n",
    "prepNN = torch.nn.Sequential(\n",
    "    torch.nn.Linear(10, 5, bias = True),\n",
    "    torch.nn.ReLU(),\n",
    ")\n",
    "\n",
    "afterNN = torch.nn.Sequential(\n",
    "    torch.nn.Linear(5, 3, bias = True),\n",
    "    torch.nn.ReLU(),\n",
    ")\n",
    "\n",
    "model = BagModel.BagModel(prepNN, afterNN, torch.mean).double()"
   ]
  },
  {
   "cell_type": "code",
   "execution_count": 15,
   "metadata": {},
   "outputs": [
    {
     "name": "stdout",
     "output_type": "stream",
     "text": [
      "tensor([[1., 1., 1., 1., 1., 1., 1., 1., 1., 1.],\n",
      "        [1., 1., 1., 1., 1., 1., 1., 1., 1., 1.],\n",
      "        [1., 1., 1., 1., 1., 1., 1., 1., 1., 1.],\n",
      "        [1., 1., 1., 1., 1., 1., 1., 1., 1., 1.],\n",
      "        [1., 1., 1., 1., 1., 1., 1., 1., 1., 1.],\n",
      "        [1., 1., 1., 1., 1., 1., 1., 1., 1., 1.],\n",
      "        [1., 1., 1., 1., 1., 1., 1., 1., 1., 1.],\n",
      "        [1., 1., 1., 1., 1., 1., 1., 1., 1., 1.],\n",
      "        [1., 1., 1., 1., 1., 1., 1., 1., 1., 1.],\n",
      "        [1., 1., 1., 1., 1., 1., 1., 1., 1., 1.],\n",
      "        [1., 1., 1., 1., 1., 1., 1., 1., 1., 1.],\n",
      "        [1., 1., 1., 1., 1., 1., 1., 1., 1., 1.]], dtype=torch.float64)\n",
      "torch.Size([1, 12])\n"
     ]
    }
   ],
   "source": [
    "data = torch.ones(12,10).double()\n",
    "print(data)\n",
    "\n",
    "bagids = torch.Tensor([[1,1,1,2,2,2,2,2,3,3,3,3]]).double()\n",
    "print(bagids.shape)"
   ]
  },
  {
   "cell_type": "code",
   "execution_count": 16,
   "metadata": {},
   "outputs": [
    {
     "data": {
      "text/plain": [
       "tensor([[0.1939, 0.0000, 0.0000],\n",
       "        [0.1939, 0.0000, 0.0000],\n",
       "        [0.1939, 0.0000, 0.0000]], dtype=torch.float64,\n",
       "       grad_fn=<ReluBackward0>)"
      ]
     },
     "execution_count": 16,
     "metadata": {},
     "output_type": "execute_result"
    }
   ],
   "source": [
    "model(data, bagids)"
   ]
  },
  {
   "cell_type": "markdown",
   "metadata": {},
   "source": [
    "## Concating bagids"
   ]
  },
  {
   "cell_type": "code",
   "execution_count": 25,
   "metadata": {},
   "outputs": [
    {
     "name": "stdout",
     "output_type": "stream",
     "text": [
      "tensor([[1., 1., 1., 1., 1., 1., 2., 2., 2., 3.],\n",
      "        [1., 1., 1., 2., 2., 2., 3., 4., 4., 5.],\n",
      "        [1., 1., 2., 3., 4., 4., 5., 6., 6., 7.]])\n",
      "[tensor([[1., 1., 1., 1., 1., 1.],\n",
      "        [1., 1., 1., 2., 2., 2.],\n",
      "        [1., 1., 2., 3., 4., 4.]]), tensor([[3.],\n",
      "        [5.],\n",
      "        [7.]])]\n",
      "tensor([[1., 1., 1., 1., 1., 1., 3.],\n",
      "        [1., 1., 1., 2., 2., 2., 5.],\n",
      "        [1., 1., 2., 3., 4., 4., 7.]])\n"
     ]
    }
   ],
   "source": [
    "bagids = torch.Tensor([[1,1,1,1,1,1,2,2,2,3],\\\n",
    "                       [1,1,1,2,2,2,3,4,4,5],\\\n",
    "                       [1,1,2,3,4,4,5,6,6,7]])\n",
    "print(bagids)\n",
    "\n",
    "batch = []\n",
    "batch.append(bagids[:,bagids[0] == 1])\n",
    "batch.append(bagids[:,bagids[0] == 3])\n",
    "\n",
    "print(batch)\n",
    "bagids = torch.cat(batch, dim = 1)\n",
    "print(bagids)"
   ]
  },
  {
   "cell_type": "markdown",
   "metadata": {},
   "source": [
    "## Testing MilDataset"
   ]
  },
  {
   "cell_type": "code",
   "execution_count": 1,
   "metadata": {},
   "outputs": [
    {
     "ename": "FileNotFoundError",
     "evalue": "[Errno 2] No such file or directory: 'data/Musk1/data.csv'",
     "output_type": "error",
     "traceback": [
      "\u001b[0;31m---------------------------------------------------------------------------\u001b[0m",
      "\u001b[0;31mFileNotFoundError\u001b[0m                         Traceback (most recent call last)",
      "\u001b[0;32m<ipython-input-1-cb0d8264edf5>\u001b[0m in \u001b[0;36m<module>\u001b[0;34m\u001b[0m\n\u001b[1;32m      3\u001b[0m \u001b[0mfile_name\u001b[0m \u001b[0;34m=\u001b[0m \u001b[0;34m'data/Musk1'\u001b[0m\u001b[0;34m\u001b[0m\u001b[0m\n\u001b[1;32m      4\u001b[0m \u001b[0;34m\u001b[0m\u001b[0m\n\u001b[0;32m----> 5\u001b[0;31m \u001b[0mraw_data\u001b[0m \u001b[0;34m=\u001b[0m \u001b[0mopen\u001b[0m\u001b[0;34m(\u001b[0m\u001b[0mfile_name\u001b[0m \u001b[0;34m+\u001b[0m \u001b[0;34m'/data.csv'\u001b[0m\u001b[0;34m)\u001b[0m\u001b[0;34m\u001b[0m\u001b[0m\n\u001b[0m\u001b[1;32m      6\u001b[0m \u001b[0mraw_labels\u001b[0m \u001b[0;34m=\u001b[0m \u001b[0mopen\u001b[0m\u001b[0;34m(\u001b[0m\u001b[0mfile_name\u001b[0m \u001b[0;34m+\u001b[0m \u001b[0;34m'/labels.csv'\u001b[0m\u001b[0;34m)\u001b[0m\u001b[0;34m\u001b[0m\u001b[0m\n\u001b[1;32m      7\u001b[0m \u001b[0mraw_bagids\u001b[0m \u001b[0;34m=\u001b[0m \u001b[0mopen\u001b[0m\u001b[0;34m(\u001b[0m\u001b[0mfile_name\u001b[0m \u001b[0;34m+\u001b[0m \u001b[0;34m'/bagids.csv'\u001b[0m\u001b[0;34m)\u001b[0m\u001b[0;34m\u001b[0m\u001b[0m\n",
      "\u001b[0;31mFileNotFoundError\u001b[0m: [Errno 2] No such file or directory: 'data/Musk1/data.csv'"
     ]
    }
   ],
   "source": [
    "import mil\n",
    "\n",
    "file_name = 'data/Musk1'\n",
    "\n",
    "raw_data = open(file_name + '/data.csv')\n",
    "raw_labels = open(file_name + '/labels.csv')\n",
    "raw_bagids = open(file_name + '/bagids.csv')\n",
    "\n",
    "data = numpy.loadtxt(raw_data, delimiter = '\\t').transpose()\n",
    "labels = numpy.loadtxt(raw_labels).transpose()\n",
    "bagids = numpy.loadtxt(raw_bagids).transpose()\n",
    "\n",
    "print(data)"
   ]
  },
  {
   "cell_type": "markdown",
   "metadata": {},
   "source": [
    "## Absolute path"
   ]
  },
  {
   "cell_type": "code",
   "execution_count": 2,
   "metadata": {},
   "outputs": [
    {
     "data": {
      "text/plain": [
       "'/Users/kuba/code/aic/mill_python/mil.py'"
      ]
     },
     "execution_count": 2,
     "metadata": {},
     "output_type": "execute_result"
    }
   ],
   "source": [
    "import os\n",
    "os.path.abspath('mil.py')"
   ]
  },
  {
   "cell_type": "markdown",
   "metadata": {},
   "source": [
    "## Numpy functions in pytorch"
   ]
  },
  {
   "cell_type": "code",
   "execution_count": 136,
   "metadata": {},
   "outputs": [],
   "source": [
    "import torch\n",
    "import numpy\n",
    "import time"
   ]
  },
  {
   "cell_type": "code",
   "execution_count": 137,
   "metadata": {},
   "outputs": [],
   "source": [
    "inner_ids = torch.Tensor([3, 3, 1, 1, 1, 7, 7, 7, 7, 2, 2, 2])"
   ]
  },
  {
   "cell_type": "code",
   "execution_count": 141,
   "metadata": {},
   "outputs": [
    {
     "name": "stdout",
     "output_type": "stream",
     "text": [
      "Numpy vesrion | Elapsed time: 0.0002779960632324219\n"
     ]
    }
   ],
   "source": [
    "start = time.time()\n",
    "bags, idx, counts = numpy.unique(inner_bagids, return_counts = True, return_index = True)\n",
    "bags = bags[numpy.argsort(idx)]\n",
    "counts = counts[numpy.argsort(idx)]\n",
    "print(\"Numpy vesrion | Elapsed time: {}\".format(time.time()-start))"
   ]
  },
  {
   "cell_type": "code",
   "execution_count": 142,
   "metadata": {},
   "outputs": [
    {
     "name": "stdout",
     "output_type": "stream",
     "text": [
      "[3. 1. 7. 2.] [2 3 4 3]\n"
     ]
    }
   ],
   "source": [
    "print(bags, counts)"
   ]
  },
  {
   "cell_type": "code",
   "execution_count": 143,
   "metadata": {},
   "outputs": [
    {
     "name": "stdout",
     "output_type": "stream",
     "text": [
      "Pytorch vesrion | Elapsed time: 0.0010409355163574219\n"
     ]
    }
   ],
   "source": [
    "# Final version?\n",
    "start = time.time()\n",
    "unique, inverse, counts = torch.unique(inner_ids, sorted = True, return_inverse = True, return_counts = True)\n",
    "idx = torch.cat([(inverse == x).nonzero()[0] for x in range(len(unique))]).sort()[1]\n",
    "bags = unique[idx]\n",
    "counts = counts[idx]\n",
    "print(\"Pytorch vesrion | Elapsed time: {}\".format(time.time()-start))"
   ]
  },
  {
   "cell_type": "code",
   "execution_count": 144,
   "metadata": {},
   "outputs": [
    {
     "name": "stdout",
     "output_type": "stream",
     "text": [
      "tensor([3., 1., 7., 2.]) tensor([2, 3, 4, 3])\n"
     ]
    }
   ],
   "source": [
    "print(bags,counts)"
   ]
  },
  {
   "cell_type": "markdown",
   "metadata": {},
   "source": [
    "## Creating empty tensors"
   ]
  },
  {
   "cell_type": "code",
   "execution_count": 233,
   "metadata": {},
   "outputs": [],
   "source": [
    "import torch"
   ]
  },
  {
   "cell_type": "code",
   "execution_count": 248,
   "metadata": {},
   "outputs": [],
   "source": [
    "a = torch.empty(0).long()\n",
    "counts = torch.Tensor([1, 5, 1, 3])"
   ]
  },
  {
   "cell_type": "code",
   "execution_count": 249,
   "metadata": {},
   "outputs": [
    {
     "data": {
      "text/plain": [
       "tensor([], dtype=torch.int64)"
      ]
     },
     "execution_count": 249,
     "metadata": {},
     "output_type": "execute_result"
    }
   ],
   "source": [
    "a"
   ]
  },
  {
   "cell_type": "code",
   "execution_count": 250,
   "metadata": {},
   "outputs": [],
   "source": [
    "append = torch.sum(counts, dtype = torch.int64).reshape(1)"
   ]
  },
  {
   "cell_type": "code",
   "execution_count": 251,
   "metadata": {},
   "outputs": [
    {
     "data": {
      "text/plain": [
       "tensor([10])"
      ]
     },
     "execution_count": 251,
     "metadata": {},
     "output_type": "execute_result"
    }
   ],
   "source": [
    "torch.cat((a, append))"
   ]
  },
  {
   "cell_type": "markdown",
   "metadata": {},
   "source": [
    "## append vs cat"
   ]
  },
  {
   "cell_type": "code",
   "execution_count": 70,
   "metadata": {},
   "outputs": [],
   "source": [
    "import torch\n",
    "import timeit"
   ]
  },
  {
   "cell_type": "code",
   "execution_count": 72,
   "metadata": {},
   "outputs": [
    {
     "data": {
      "text/plain": [
       "11.758095418997982"
      ]
     },
     "execution_count": 72,
     "metadata": {},
     "output_type": "execute_result"
    }
   ],
   "source": [
    "ar = []\n",
    "a = torch.Tensor([[1,2,3]])\n",
    "b = torch.Tensor([[4,5,6]])\n",
    "ar.append(a)\n",
    "ar.append(b)\n",
    "result = torch.cat(ar, dim = 0)"
   ]
  },
  {
   "cell_type": "code",
   "execution_count": 65,
   "metadata": {},
   "outputs": [
    {
     "name": "stdout",
     "output_type": "stream",
     "text": [
      "0.0006508827209472656\n"
     ]
    }
   ],
   "source": [
    "start = time.time()\n",
    "ar = torch.empty((0,3))\n",
    "a = torch.Tensor([[1,2,3]])\n",
    "b = torch.Tensor([[4,5,6]])\n",
    "ar = torch.cat((ar,a))\n",
    "ar = torch.cat((ar,b))\n",
    "print(time.time() - start)"
   ]
  },
  {
   "cell_type": "markdown",
   "metadata": {},
   "source": [
    "## Random subset sampler"
   ]
  },
  {
   "cell_type": "code",
   "execution_count": null,
   "metadata": {},
   "outputs": [],
   "source": [
    "torch.utils.data.SubsetRandomSampler"
   ]
  },
  {
   "cell_type": "markdown",
   "metadata": {},
   "source": [
    "## CV"
   ]
  },
  {
   "cell_type": "code",
   "execution_count": 30,
   "metadata": {},
   "outputs": [
    {
     "name": "stdout",
     "output_type": "stream",
     "text": [
      "[0, 1, 2, 3, 4, 5, 6, 7, 8, 9, 10, 11, 12, 13, 14, 15, 16, 17, 18, 19, 20, 21, 22, 23, 24, 25, 26, 27, 28, 29, 30, 31, 32, 33, 34, 35, 36, 37, 38, 39, 40, 41, 42, 43, 44, 45, 46, 47, 48, 49, 50, 51, 52, 53, 54, 55, 56, 57, 58, 59, 60, 61, 62, 63, 64, 65, 66, 67, 68, 69, 70, 71, 72, 73, 74, 75, 76, 77, 78, 79, 80, 81, 82, 83, 84, 85, 86, 87, 88, 89, 90, 91, 92, 93, 94, 95, 96, 97, 98, 99]\n",
      "0 7\n",
      "7 14\n",
      "14 21\n",
      "21 28\n",
      "28 35\n",
      "35 42\n",
      "42 49\n",
      "49 56\n",
      "56 63\n",
      "63 70\n",
      "70 77\n",
      "77 84\n",
      "84 91\n",
      "91 98\n",
      "98 105\n"
     ]
    }
   ],
   "source": [
    "dataset_len = 100\n",
    "n_folds = 7\n",
    "indices = list(range(100))\n",
    "print(indices)\n",
    "\n",
    "fold_len = dataset_len/n_folds\n",
    "\n",
    "for i in range(0, dataset_len, 7):\n",
    "        \n",
    "    "
   ]
  },
  {
   "cell_type": "code",
   "execution_count": 25,
   "metadata": {},
   "outputs": [
    {
     "name": "stdout",
     "output_type": "stream",
     "text": [
      "[ 0  1  2  3  4  5  6  7  8  9 10 11 12 13 14]\n",
      "[15 16 17 18 19 20 21 22 23 24 25 26 27 28 29]\n",
      "[30 31 32 33 34 35 36 37 38 39 40 41 42 43]\n",
      "[44 45 46 47 48 49 50 51 52 53 54 55 56 57]\n",
      "[58 59 60 61 62 63 64 65 66 67 68 69 70 71]\n",
      "[72 73 74 75 76 77 78 79 80 81 82 83 84 85]\n",
      "[86 87 88 89 90 91 92 93 94 95 96 97 98 99]\n"
     ]
    }
   ],
   "source": [
    "import numpy\n",
    "n_samples = 100\n",
    "n_splits = 7\n",
    "indices = numpy.arange(n_samples)\n",
    "fold_sizes = numpy.full(n_splits, n_samples // n_splits, dtype=numpy.int)\n",
    "fold_sizes[:n_samples % n_splits] += 1\n",
    "current = 0\n",
    "for fold_size in fold_sizes:\n",
    "    start, stop = current, current + fold_size\n",
    "    print(indices[start:stop])\n",
    "    current = stop"
   ]
  },
  {
   "cell_type": "code",
   "execution_count": 4,
   "metadata": {},
   "outputs": [],
   "source": [
    "import torch"
   ]
  },
  {
   "cell_type": "code",
   "execution_count": 8,
   "metadata": {},
   "outputs": [],
   "source": [
    "sampler = torch.utils.data.sampler.SubsetRandomSampler(indices = [1, 2, 3, 10, 11, 12])"
   ]
  },
  {
   "cell_type": "code",
   "execution_count": 9,
   "metadata": {},
   "outputs": [
    {
     "name": "stdout",
     "output_type": "stream",
     "text": [
      "12\n",
      "10\n",
      "2\n",
      "3\n",
      "11\n",
      "1\n"
     ]
    }
   ],
   "source": [
    "for i in sampler:\n",
    "    print(i)"
   ]
  },
  {
   "cell_type": "code",
   "execution_count": 23,
   "metadata": {},
   "outputs": [
    {
     "data": {
      "text/plain": [
       "1.0"
      ]
     },
     "execution_count": 23,
     "metadata": {},
     "output_type": "execute_result"
    }
   ],
   "source": [
    "errors = [1, 1]\n",
    "numpy.mean(errors)"
   ]
  },
  {
   "cell_type": "markdown",
   "metadata": {},
   "source": [
    "## Yaml"
   ]
  },
  {
   "cell_type": "code",
   "execution_count": 49,
   "metadata": {},
   "outputs": [],
   "source": [
    "import yaml\n",
    "import json"
   ]
  },
  {
   "cell_type": "code",
   "execution_count": 50,
   "metadata": {},
   "outputs": [],
   "source": [
    "config = {}\n",
    "config[\"n_neuron1\"] = {}\n",
    "config[\"n_neuron2\"] = 7"
   ]
  },
  {
   "cell_type": "code",
   "execution_count": 51,
   "metadata": {},
   "outputs": [],
   "source": [
    "config[\"n_neuron1\"][\"value\"] = 5"
   ]
  },
  {
   "cell_type": "code",
   "execution_count": 52,
   "metadata": {},
   "outputs": [],
   "source": [
    "yaml_file = yaml.dump(config)"
   ]
  },
  {
   "cell_type": "code",
   "execution_count": 53,
   "metadata": {},
   "outputs": [
    {
     "name": "stderr",
     "output_type": "stream",
     "text": [
      "/usr/local/lib/python3.6/site-packages/ipykernel_launcher.py:1: YAMLLoadWarning: calling yaml.load() without Loader=... is deprecated, as the default Loader is unsafe. Please read https://msg.pyyaml.org/load for full details.\n",
      "  \"\"\"Entry point for launching an IPython kernel.\n"
     ]
    }
   ],
   "source": [
    "data = yaml.load(yaml_file)"
   ]
  },
  {
   "cell_type": "code",
   "execution_count": 55,
   "metadata": {},
   "outputs": [
    {
     "data": {
      "text/plain": [
       "{'value': 5}"
      ]
     },
     "execution_count": 55,
     "metadata": {},
     "output_type": "execute_result"
    }
   ],
   "source": [
    "logp"
   ]
  },
  {
   "cell_type": "code",
   "execution_count": 56,
   "metadata": {},
   "outputs": [],
   "source": [
    "n_neurons1 = 5\n",
    "n_neurons2 = 5\n",
    "n_neurons3 = 5\n",
    "learning_rate = 1e-3\n",
    "weight_decay = 1e-4\n",
    "\n",
    "log = {}\n",
    "log[\"config\"] = {}\n",
    "log[\"config\"][\"n_neurons1\"] = n_neurons1\n",
    "log[\"config\"][\"n_neurons2\"] = n_neurons2\n",
    "log[\"config\"][\"n_neurons3\"] = n_neurons3\n",
    "log[\"config\"][\"learning_rate\"] = learning_rate\n",
    "log[\"config\"][\"weight_decay\"] = weight_decay"
   ]
  },
  {
   "cell_type": "code",
   "execution_count": 65,
   "metadata": {},
   "outputs": [],
   "source": [
    "log[\"id\"] = str(n_neurons1) + '_' + str(n_neurons2) + '_' + str(n_neurons3) + '_' + str(learning_rate) + '_' + str(weight_decay)"
   ]
  },
  {
   "cell_type": "code",
   "execution_count": 66,
   "metadata": {},
   "outputs": [
    {
     "data": {
      "text/plain": [
       "{'config': {'n_neurons1': 5,\n",
       "  'n_neurons2': 5,\n",
       "  'n_neurons3': 5,\n",
       "  'learning_rate': 0.001,\n",
       "  'weight_decay': 0.0001},\n",
       " 'id': '5_5_5_0.001_0.0001'}"
      ]
     },
     "execution_count": 66,
     "metadata": {},
     "output_type": "execute_result"
    }
   ],
   "source": [
    "log"
   ]
  },
  {
   "cell_type": "code",
   "execution_count": 67,
   "metadata": {},
   "outputs": [],
   "source": [
    "import uuid\n",
    "filename = uuid.uuid4().hex"
   ]
  },
  {
   "cell_type": "code",
   "execution_count": 68,
   "metadata": {},
   "outputs": [
    {
     "data": {
      "text/plain": [
       "'a9aa98a4246f4cef9c8fc882aca0eb66'"
      ]
     },
     "execution_count": 68,
     "metadata": {},
     "output_type": "execute_result"
    }
   ],
   "source": [
    "filename"
   ]
  },
  {
   "cell_type": "code",
   "execution_count": 82,
   "metadata": {},
   "outputs": [
    {
     "data": {
      "text/plain": [
       "array([1.e-10, 1.e-09, 1.e-08, 1.e-07, 1.e-06, 1.e-05, 1.e-04, 1.e-03,\n",
       "       1.e-02])"
      ]
     },
     "execution_count": 82,
     "metadata": {},
     "output_type": "execute_result"
    }
   ],
   "source": [
    "import numpy\n",
    "numpy.logspace(-10, -2, num = 9)"
   ]
  },
  {
   "cell_type": "code",
   "execution_count": 78,
   "metadata": {},
   "outputs": [
    {
     "data": {
      "text/plain": [
       "0.0001"
      ]
     },
     "execution_count": 78,
     "metadata": {},
     "output_type": "execute_result"
    }
   ],
   "source": [
    "1e-4"
   ]
  },
  {
   "cell_type": "code",
   "execution_count": 83,
   "metadata": {},
   "outputs": [],
   "source": [
    "import time"
   ]
  },
  {
   "cell_type": "code",
   "execution_count": 84,
   "metadata": {},
   "outputs": [],
   "source": [
    "start = time.time()"
   ]
  },
  {
   "cell_type": "code",
   "execution_count": 85,
   "metadata": {},
   "outputs": [
    {
     "data": {
      "text/plain": [
       "5.908906936645508"
      ]
     },
     "execution_count": 85,
     "metadata": {},
     "output_type": "execute_result"
    }
   ],
   "source": [
    "time.time() - start"
   ]
  },
  {
   "cell_type": "code",
   "execution_count": 86,
   "metadata": {},
   "outputs": [],
   "source": [
    "learning_rate_grid = numpy.logspace(-10, -2, num = 9)"
   ]
  },
  {
   "cell_type": "code",
   "execution_count": 92,
   "metadata": {},
   "outputs": [
    {
     "data": {
      "text/plain": [
       "1e-10"
      ]
     },
     "execution_count": 92,
     "metadata": {},
     "output_type": "execute_result"
    }
   ],
   "source": [
    "learning_rate_grid[0].item()"
   ]
  },
  {
   "cell_type": "markdown",
   "metadata": {},
   "source": [
    "## Something with cuda"
   ]
  },
  {
   "cell_type": "code",
   "execution_count": 19,
   "metadata": {},
   "outputs": [],
   "source": [
    "import torch\n",
    "a = torch.Tensor([1, 2, 3], device = 'cpu')"
   ]
  },
  {
   "cell_type": "code",
   "execution_count": 3,
   "metadata": {},
   "outputs": [
    {
     "data": {
      "text/plain": [
       "tensor([1., 2., 3.])"
      ]
     },
     "execution_count": 3,
     "metadata": {},
     "output_type": "execute_result"
    }
   ],
   "source": [
    "a"
   ]
  },
  {
   "cell_type": "code",
   "execution_count": 10,
   "metadata": {},
   "outputs": [],
   "source": [
    "a = torch.Tensor([1, 2, 3])\n",
    "a = [a[0], a[1]]"
   ]
  },
  {
   "cell_type": "code",
   "execution_count": 11,
   "metadata": {},
   "outputs": [
    {
     "data": {
      "text/plain": [
       "[tensor(1.), tensor(2.)]"
      ]
     },
     "execution_count": 11,
     "metadata": {},
     "output_type": "execute_result"
    }
   ],
   "source": [
    "a"
   ]
  },
  {
   "cell_type": "code",
   "execution_count": 16,
   "metadata": {},
   "outputs": [],
   "source": [
    "out_labels = torch.stack(a)"
   ]
  },
  {
   "cell_type": "code",
   "execution_count": 17,
   "metadata": {},
   "outputs": [
    {
     "data": {
      "text/plain": [
       "tensor([1., 2.])"
      ]
     },
     "execution_count": 17,
     "metadata": {},
     "output_type": "execute_result"
    }
   ],
   "source": [
    "out_labels"
   ]
  },
  {
   "cell_type": "markdown",
   "metadata": {},
   "source": [
    "## Something"
   ]
  },
  {
   "cell_type": "code",
   "execution_count": 8,
   "metadata": {},
   "outputs": [],
   "source": [
    "import torch\n",
    "a = torch.rand((10,5))"
   ]
  },
  {
   "cell_type": "code",
   "execution_count": 6,
   "metadata": {},
   "outputs": [
    {
     "data": {
      "text/plain": [
       "tensor([[0.9229, 0.6855, 0.1926, 0.1540, 0.0628],\n",
       "        [0.9702, 0.3062, 0.5516, 0.8029, 0.9007],\n",
       "        [0.3397, 0.2631, 0.3896, 0.1163, 0.5305],\n",
       "        [0.4334, 0.7186, 0.7373, 0.9346, 0.3472],\n",
       "        [0.8808, 0.4511, 0.2017, 0.5354, 0.9571],\n",
       "        [0.1218, 0.3974, 0.6952, 0.7764, 0.4998],\n",
       "        [0.1323, 0.6156, 0.5997, 0.9026, 0.7783],\n",
       "        [0.8522, 0.6426, 0.4540, 0.6932, 0.4264],\n",
       "        [0.1089, 0.9828, 0.0400, 0.8898, 0.5481],\n",
       "        [0.7794, 0.1174, 0.8688, 0.5546, 0.4540]])"
      ]
     },
     "execution_count": 6,
     "metadata": {},
     "output_type": "execute_result"
    }
   ],
   "source": [
    "a"
   ]
  },
  {
   "cell_type": "markdown",
   "metadata": {},
   "source": [
    "## Creating 3D tensor"
   ]
  },
  {
   "cell_type": "code",
   "execution_count": 16,
   "metadata": {},
   "outputs": [
    {
     "data": {
      "text/plain": [
       "tensor([[[0.6038, 0.0401, 0.7619, 0.7717, 0.9917],\n",
       "         [0.8872, 0.9818, 0.4465, 0.1990, 0.2825],\n",
       "         [0.0847, 0.4469, 0.9764, 0.0146, 0.7255],\n",
       "         [0.5856, 0.5349, 0.2665, 0.7717, 0.8157],\n",
       "         [0.6690, 0.3662, 0.7468, 0.8674, 0.2418],\n",
       "         [0.8077, 0.1848, 0.3721, 0.8526, 0.9489],\n",
       "         [0.3117, 0.1853, 0.1479, 0.0173, 0.2029],\n",
       "         [0.2422, 0.4695, 0.1235, 0.4527, 0.0233],\n",
       "         [0.9036, 0.2864, 0.0556, 0.6664, 0.9121],\n",
       "         [0.0732, 0.8263, 0.6277, 0.8738, 0.9644]],\n",
       "\n",
       "        [[0.6512, 0.8371, 0.8293, 0.9288, 0.0777],\n",
       "         [0.5730, 0.1617, 0.8290, 0.7082, 0.9335],\n",
       "         [0.5364, 0.9597, 0.7232, 0.9584, 0.0550],\n",
       "         [0.4708, 0.5701, 0.2550, 0.5137, 0.2055],\n",
       "         [0.9599, 0.9944, 0.4400, 0.6541, 0.4997],\n",
       "         [0.3091, 0.4877, 0.2079, 0.5830, 0.8993],\n",
       "         [0.9606, 0.0190, 0.2750, 0.5533, 0.6643],\n",
       "         [0.2944, 0.4312, 0.6376, 0.6281, 0.3907],\n",
       "         [0.5791, 0.4887, 1.0000, 0.5949, 0.0783],\n",
       "         [0.7962, 0.4200, 0.7192, 0.6460, 0.1863]]])"
      ]
     },
     "execution_count": 16,
     "metadata": {},
     "output_type": "execute_result"
    }
   ],
   "source": [
    "import torch\n",
    "torch.Tensor(size = (2, 10, 5))\n",
    "torch.rand(size = (2, 10, 5))"
   ]
  },
  {
   "cell_type": "markdown",
   "metadata": {},
   "source": [
    "## Tensor with variable lenght elements"
   ]
  },
  {
   "cell_type": "code",
   "execution_count": 24,
   "metadata": {},
   "outputs": [],
   "source": [
    "n_instances = torch.Tensor([[20, 3, 15], [21, 5, 14]])"
   ]
  },
  {
   "cell_type": "code",
   "execution_count": 25,
   "metadata": {},
   "outputs": [
    {
     "name": "stdout",
     "output_type": "stream",
     "text": [
      "tensor([[20.,  3., 15.],\n",
      "        [21.,  5., 14.]])\n"
     ]
    }
   ],
   "source": [
    "print(n_instances)"
   ]
  },
  {
   "cell_type": "markdown",
   "metadata": {},
   "source": [
    "## Testing init tensors"
   ]
  },
  {
   "cell_type": "code",
   "execution_count": 8,
   "metadata": {},
   "outputs": [],
   "source": [
    "import torch\n",
    "instances = torch.tensor([[1.0, 1.0, 1.0, 1.0],\n",
    "                           [2.0, 2.0, 2.0, 2.0],\n",
    "                           [3.0, 3.0, 3.0, 3.0],\n",
    "                           [4.0, 4.0, 4.0, 4.0]], dtype = torch.double)"
   ]
  },
  {
   "cell_type": "code",
   "execution_count": 9,
   "metadata": {},
   "outputs": [
    {
     "data": {
      "text/plain": [
       "tensor([[1., 1., 1., 1.],\n",
       "        [2., 2., 2., 2.],\n",
       "        [3., 3., 3., 3.],\n",
       "        [4., 4., 4., 4.]], dtype=torch.float64)"
      ]
     },
     "execution_count": 9,
     "metadata": {},
     "output_type": "execute_result"
    }
   ],
   "source": [
    "instances\n"
   ]
  },
  {
   "cell_type": "code",
   "execution_count": null,
   "metadata": {},
   "outputs": [],
   "source": []
  }
 ],
 "metadata": {
  "kernelspec": {
   "display_name": "Python 3",
   "language": "python",
   "name": "python3"
  },
  "language_info": {
   "codemirror_mode": {
    "name": "ipython",
    "version": 3
   },
   "file_extension": ".py",
   "mimetype": "text/x-python",
   "name": "python",
   "nbconvert_exporter": "python",
   "pygments_lexer": "ipython3",
   "version": "3.6.5"
  }
 },
 "nbformat": 4,
 "nbformat_minor": 2
}
