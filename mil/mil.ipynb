{
 "cells": [
  {
   "cell_type": "code",
   "execution_count": 1,
   "metadata": {},
   "outputs": [],
   "source": [
    "import pandas as pd\n",
    "import torch\n",
    "import torch.nn as nn\n",
    "import torch.nn.functional as F\n",
    "import numpy as np\n",
    "\n",
    "from torch.utils.data import Dataset, DataLoader, SubsetRandomSampler\n",
    "from sklearn import model_selection\n",
    "from sklearn import preprocessing\n",
    "\n"
   ]
  },
  {
   "cell_type": "markdown",
   "metadata": {},
   "source": [
    "## Load data"
   ]
  },
  {
   "cell_type": "code",
   "execution_count": 2,
   "metadata": {},
   "outputs": [],
   "source": [
    "data_dir = 'Musk1.xlsx'\n",
    "test_index_dir = \"Musk1.csv_rep1_fold1.txt\"\n"
   ]
  },
  {
   "cell_type": "code",
   "execution_count": 3,
   "metadata": {},
   "outputs": [],
   "source": [
    "data = pd.read_excel(data_dir)\n",
    "test_indices  = np.loadtxt(test_index_dir, dtype=int)\n",
    "train_data = data[~data.bagID.isin(test_indices)]\n",
    "test_data = data[data.bagID.isin(test_indices)]"
   ]
  },
  {
   "cell_type": "code",
   "execution_count": null,
   "metadata": {},
   "outputs": [],
   "source": []
  },
  {
   "cell_type": "code",
   "execution_count": 4,
   "metadata": {},
   "outputs": [
    {
     "name": "stderr",
     "output_type": "stream",
     "text": [
      "/Users/nimamanaf/opt/anaconda3/envs/q/lib/python3.9/site-packages/pandas/core/frame.py:3678: SettingWithCopyWarning: \n",
      "A value is trying to be set on a copy of a slice from a DataFrame.\n",
      "Try using .loc[row_indexer,col_indexer] = value instead\n",
      "\n",
      "See the caveats in the documentation: https://pandas.pydata.org/pandas-docs/stable/user_guide/indexing.html#returning-a-view-versus-a-copy\n",
      "  self[col] = igetitem(value, i)\n",
      "/Users/nimamanaf/opt/anaconda3/envs/q/lib/python3.9/site-packages/pandas/core/frame.py:3678: SettingWithCopyWarning: \n",
      "A value is trying to be set on a copy of a slice from a DataFrame.\n",
      "Try using .loc[row_indexer,col_indexer] = value instead\n",
      "\n",
      "See the caveats in the documentation: https://pandas.pydata.org/pandas-docs/stable/user_guide/indexing.html#returning-a-view-versus-a-copy\n",
      "  self[col] = igetitem(value, i)\n"
     ]
    }
   ],
   "source": [
    "x_train = train_data[train_data.columns[3:]].values\n",
    "normalizer = preprocessing.StandardScaler().fit(x_train)\n",
    "train_data[train_data.columns[3:]] = normalizer.transform(train_data[train_data.columns[3:]])\n",
    "test_data[test_data.columns[3:]] = normalizer.transform(test_data[test_data.columns[3:]])"
   ]
  },
  {
   "cell_type": "code",
   "execution_count": null,
   "metadata": {},
   "outputs": [],
   "source": []
  },
  {
   "cell_type": "code",
   "execution_count": 5,
   "metadata": {},
   "outputs": [],
   "source": [
    "class MilDataset(Dataset):\n",
    "    def __init__(self, data):\n",
    "        self.data = data\n",
    "        self.unique_bag_ids = data.bagID.unique()\n",
    "\n",
    "    def __len__(self):\n",
    "        return self.data.bagID.nunique()\n",
    "    \n",
    "    def __getitem__(self, index):\n",
    "        bag_id = self.unique_bag_ids[index]\n",
    "        index_data = self.data[self.data.bagID==bag_id]\n",
    "        index_features =  torch.tensor(index_data[index_data.columns[3:]].values)\n",
    "        index_label = torch.tensor(index_data.response.unique())\n",
    "\n",
    "        return index_features, index_label\n"
   ]
  },
  {
   "cell_type": "code",
   "execution_count": 6,
   "metadata": {},
   "outputs": [],
   "source": [
    "train_data = MilDataset(train_data)\n",
    "test_data = MilDataset(test_data)\n"
   ]
  },
  {
   "cell_type": "code",
   "execution_count": 7,
   "metadata": {},
   "outputs": [],
   "source": [
    "\n",
    "train_dl = DataLoader(dataset=train_data, batch_size=1) # Using custom collate_fn mil.collate\n",
    "test_dl = DataLoader(dataset=test_data, batch_size=1)"
   ]
  },
  {
   "cell_type": "markdown",
   "metadata": {},
   "source": [
    "## Define model, criterion and optimizer"
   ]
  },
  {
   "cell_type": "code",
   "execution_count": 8,
   "metadata": {},
   "outputs": [],
   "source": [
    "class mi_Net(nn.Module):\n",
    "    def __init__(self, input_dim=166, pooling_method=\"mean\"):\n",
    "        super().__init__()\n",
    "\n",
    "        self.fc1 = nn.Linear(in_features=input_dim, out_features=256)\n",
    "        self.fc2 = nn.Linear(in_features=256, out_features=128)\n",
    "        self.fc3 = nn.Linear(in_features=128, out_features=64)\n",
    "        self.dropout = nn.Dropout(p=0.5, inplace=False)\n",
    "        self.fc4 = nn.Linear(in_features=64, out_features=1)\n",
    "        if pooling_method == \"mean\":\n",
    "            self.pooling_method = torch.mean\n",
    "        elif pooling_method == \"max\":\n",
    "            self.pooling_method = torch.max\n",
    "        elif self.pooling_method == \"attention\":\n",
    "            raise NotImplementedError\n",
    "        else:\n",
    "            raise NotImplementedError\n",
    "    \n",
    "    def forward(self, input):    \n",
    "        \n",
    "        x = input.float()\n",
    "        x = F.relu(self.fc1(x))\n",
    "        x = F.relu(self.fc2(x))\n",
    "        x = F.relu(self.fc3(x))\n",
    "        x = self.dropout(x) \n",
    "        x = torch.sigmoid(self.fc4(x))       \n",
    "        return self.pooling_method(x, dim=1, keepdim=False)\n",
    "        "
   ]
  },
  {
   "cell_type": "code",
   "execution_count": 10,
   "metadata": {},
   "outputs": [],
   "source": [
    "class MI_Net(nn.Module):\n",
    "    def __init__(self, input_dim=166, pooling_method=\"\"):\n",
    "        super().__init__()\n",
    "\n",
    "        self.fc1 = nn.Linear(in_features=input_dim, out_features=256)\n",
    "        self.fc2 = nn.Linear(in_features=256, out_features=128)\n",
    "        self.fc3 = nn.Linear(in_features=128, out_features=64)\n",
    "        self.dropout = nn.Dropout(p=0.5, inplace=False)\n",
    "        self.fc4 = nn.Linear(in_features=64, out_features=1)\n",
    "    \n",
    "    def forward(self, input):    \n",
    "        \n",
    "        x = input.float()\n",
    "        x = F.relu(self.fc1(x))\n",
    "        x = F.relu(self.fc2(x))\n",
    "        x = F.relu(self.fc3(x))\n",
    "        x = self.dropout(x) \n",
    "        x = torch.mean(x, dim=1, keepdim=False)\n",
    "        x = self.fc4(x)\n",
    "\n",
    "        return torch.sigmoid(x)\n",
    "\n"
   ]
  },
  {
   "cell_type": "code",
   "execution_count": 33,
   "metadata": {},
   "outputs": [],
   "source": [
    "class MI_Net_RC(nn.Module):\n",
    "    def __init__(self, input_dim=166, dropout=False, pooling_method=\"mean\"):\n",
    "        super().__init__()\n",
    "\n",
    "        self.fc1 = nn.Linear(in_features=input_dim, out_features=128)\n",
    "        self.fc2 = nn.Linear(in_features=128, out_features=128)\n",
    "        self.fc3 = nn.Linear(in_features=128, out_features=128)\n",
    "        self.fc4 = nn.Linear(in_features=128, out_features=1)\n",
    "        self.dropout = dropout\n",
    "        if dropout:\n",
    "            self.dropout_1 = nn.Dropout(p=0.5, inplace=False)\n",
    "            self.dropout_2 = nn.Dropout(p=0.5, inplace=False)\n",
    "            self.dropout_3 = nn.Dropout(p=0.5, inplace=False)\n",
    "        \n",
    "        if pooling_method == \"mean\":\n",
    "            self.pooling_method = torch.mean\n",
    "        elif pooling_method == \"max\":\n",
    "            self.pooling_method = torch.max\n",
    "        elif self.pooling_method == \"attention\":\n",
    "            raise NotImplementedError\n",
    "        else:\n",
    "            raise NotImplementedError\n",
    "        \n",
    "    def forward(self, input):    \n",
    "        \n",
    "        x = input.float()\n",
    "        x = F.relu(self.fc1(x))\n",
    "        if self.dropout:\n",
    "            x = self.dropout_1(x)\n",
    "        r1 = self.pooling_method(x, dim=1, keepdim=False)\n",
    "        x = F.relu(self.fc2(x))\n",
    "        if self.dropout:\n",
    "            x = self.dropout_2(x)\n",
    "        r2 = self.pooling_method(x, dim=1, keepdim=False)\n",
    "        x = F.relu(self.fc3(x))\n",
    "        if self.dropout:\n",
    "            x = self.dropout_3(x)\n",
    "        r3 = self.pooling_method(x, dim=1, keepdim=False)        \n",
    "        x = r1 + r2 + r3\n",
    "        x = self.fc4(x)\n",
    "\n",
    "        return torch.sigmoid(x)"
   ]
  },
  {
   "cell_type": "code",
   "execution_count": null,
   "metadata": {},
   "outputs": [],
   "source": []
  },
  {
   "cell_type": "code",
   "execution_count": 34,
   "metadata": {},
   "outputs": [],
   "source": [
    "model = MI_Net()\n",
    "model = mi_Net()\n",
    "model = MI_Net_RC()"
   ]
  },
  {
   "cell_type": "markdown",
   "metadata": {},
   "source": [
    "## Hyper-Parameters "
   ]
  },
  {
   "cell_type": "code",
   "execution_count": 35,
   "metadata": {},
   "outputs": [],
   "source": [
    "\n",
    "batch_size = 1\n",
    "# Optimizer parameters from https://github.com/yanyongluan/MINNs/blob/master/MI_Net.py\n",
    "learning_rate = 5e-4\n",
    "weight_decay = 1e-4\n",
    "momentum = 0.9\n",
    "optimizer = torch.optim.SGD(model.parameters(), lr=learning_rate, weight_decay=weight_decay, momentum=momentum)\n",
    "criterion = nn.BCELoss()\n",
    "#criterion = nn.CrossEntropyLoss()\n"
   ]
  },
  {
   "cell_type": "code",
   "execution_count": null,
   "metadata": {},
   "outputs": [],
   "source": []
  },
  {
   "cell_type": "code",
   "execution_count": null,
   "metadata": {},
   "outputs": [],
   "source": []
  },
  {
   "cell_type": "markdown",
   "metadata": {},
   "source": [
    "## Train model"
   ]
  },
  {
   "cell_type": "code",
   "execution_count": 36,
   "metadata": {},
   "outputs": [
    {
     "name": "stdout",
     "output_type": "stream",
     "text": [
      "TRAINING:\n",
      "Finished training - elapsed time: 5.4081878662109375\n"
     ]
    }
   ],
   "source": [
    "import time\n",
    "\n",
    "# Training parameters\n",
    "epochs = 50\n",
    "\n",
    "start = time.time()\n",
    "print('TRAINING:')\n",
    "\n",
    "# Tensor for collecting losses over batches\n",
    "train_losses = []\n",
    "\n",
    "for epoch in range(epochs): \n",
    "    for features, labels in train_dl:\n",
    "        labels[labels==-1] = 0  # replace -1 classes with Zero\n",
    "        pred = model(features)\n",
    "        loss = criterion(pred, labels.float())\n",
    "        \n",
    "        # Update weights\n",
    "        optimizer.zero_grad()\n",
    "        loss.backward()\n",
    "        optimizer.step()\n",
    "        \n",
    "        # Save loss on this batch\n",
    "        train_losses.append(loss.float())\n",
    "    \n",
    "    # Compute avarega loss on this epoch\n",
    "    train_loss = torch.mean(torch.tensor(train_losses), dim = 0, keepdim = True)\n",
    "    \n",
    "    # Clear tensor for saving losses over batches\n",
    "    train_losses = []\n",
    "\n",
    "    # Print info about learning every 100 epochs\n",
    "    if (epoch+1)%100 == 0:\n",
    "        print('[{}/{}] | train_loss: {}'.format(epoch+1, epochs, train_loss.item()))\n",
    "\n",
    "print('Finished training - elapsed time: {}'.format(time.time() - start))"
   ]
  },
  {
   "cell_type": "code",
   "execution_count": null,
   "metadata": {},
   "outputs": [],
   "source": []
  },
  {
   "cell_type": "markdown",
   "metadata": {},
   "source": [
    "## Evaluation"
   ]
  },
  {
   "cell_type": "code",
   "execution_count": 37,
   "metadata": {},
   "outputs": [
    {
     "name": "stdout",
     "output_type": "stream",
     "text": [
      "the pred acc is 1.0\n"
     ]
    }
   ],
   "source": [
    "model.eval()\n",
    "train_acc = []\n",
    "for features, labels in train_dl:\n",
    "        labels[labels==-1] = 0  # replace -1 classes with Zero\n",
    "        pred = model(features)\n",
    "        train_acc.append(pred.round().detach().item() ==labels.item())\n",
    "\n",
    "print(f\"the pred acc is {sum(train_acc)/len(train_acc)}\")\n",
    "    "
   ]
  },
  {
   "cell_type": "code",
   "execution_count": 38,
   "metadata": {},
   "outputs": [
    {
     "name": "stdout",
     "output_type": "stream",
     "text": [
      "the pred acc is 0.9\n"
     ]
    }
   ],
   "source": [
    "model.eval()\n",
    "test_acc = []\n",
    "for features, labels in test_dl:\n",
    "    labels[labels==-1] = 0  # replace -1 classes with Zero\n",
    "    pred = model(features) # get probability of the bag\n",
    "    \n",
    "    test_acc.append(pred.round().detach().item() ==labels.item())\n",
    "\n",
    "print(f\"the pred acc is {sum(test_acc)/len(test_acc)}\")\n"
   ]
  },
  {
   "cell_type": "code",
   "execution_count": null,
   "metadata": {},
   "outputs": [],
   "source": []
  },
  {
   "cell_type": "code",
   "execution_count": 17,
   "metadata": {},
   "outputs": [],
   "source": [
    "from sklearn import metrics\n",
    "\n",
    "def eer(pred, labels):\n",
    "    fpr, tpr, threshold = metrics.roc_curve(labels.detach(), pred.detach(), pos_label=1)\n",
    "    fnr = 1 - tpr\n",
    "    EER_fpr = fpr[np.nanargmin(np.absolute((fnr - fpr)))]\n",
    "    EER_fnr = fnr[np.nanargmin(np.absolute((fnr - fpr)))]\n",
    "    return EER_fpr, EER_fnr\n",
    "\n",
    "def accuracy(pred, target, threshold = 0):\n",
    "    pred = pred.detach().np()\n",
    "    target = target.detach().np()\n",
    "\n",
    "    pred[pred >= threshold] = 1\n",
    "    pred[pred < threshold] = -1\n",
    "\n",
    "    return np.sum(target == pred)/target.shape[0]\n"
   ]
  },
  {
   "cell_type": "code",
   "execution_count": 33,
   "metadata": {},
   "outputs": [
    {
     "data": {
      "text/plain": [
       "tensor([-1, -1,  1,  1, -1, -1,  1, -1,  1,  1, -1, -1, -1,  1, -1,  1, -1, -1,\n",
       "         1,  1, -1, -1,  1, -1,  1, -1,  1,  1, -1,  1, -1,  1,  1,  1, -1, -1,\n",
       "        -1,  1, -1, -1, -1,  1, -1, -1, -1,  1, -1,  1, -1, -1, -1, -1, -1, -1,\n",
       "         1,  1, -1,  1,  1, -1,  1, -1, -1,  1, -1,  1, -1,  1, -1,  1,  1,  1,\n",
       "         1])"
      ]
     },
     "execution_count": 33,
     "metadata": {},
     "output_type": "execute_result"
    }
   ],
   "source": []
  },
  {
   "cell_type": "code",
   "execution_count": null,
   "metadata": {},
   "outputs": [],
   "source": []
  }
 ],
 "metadata": {
  "interpreter": {
   "hash": "05e50049e3eb32775174019135b7208a0d3852fb22829b3658213f387a3fdcbe"
  },
  "kernelspec": {
   "display_name": "Python 3.9.7 ('q')",
   "language": "python",
   "name": "python3"
  },
  "language_info": {
   "codemirror_mode": {
    "name": "ipython",
    "version": 3
   },
   "file_extension": ".py",
   "mimetype": "text/x-python",
   "name": "python",
   "nbconvert_exporter": "python",
   "pygments_lexer": "ipython3",
   "version": "3.9.7"
  }
 },
 "nbformat": 4,
 "nbformat_minor": 2
}
